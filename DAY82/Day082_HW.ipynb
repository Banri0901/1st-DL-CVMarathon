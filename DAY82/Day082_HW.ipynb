{
 "cells": [
  {
   "cell_type": "markdown",
   "metadata": {},
   "source": [
    "## Work\n",
    "1. 請比較使用不同層數以及不同 Dropout rate 對訓練的效果\n",
    "2. 將 optimizer 改成使用 Adam 並加上適當的 dropout rate 檢視結果"
   ]
  },
  {
   "cell_type": "code",
   "execution_count": 1,
   "metadata": {},
   "outputs": [],
   "source": [
    "import os\n",
    "import keras\n",
    "import itertools\n",
    "# Disable GPU\n",
    "os.environ[\"CUDA_VISIBLE_DEVICES\"] = \"\""
   ]
  },
  {
   "cell_type": "code",
   "execution_count": 2,
   "metadata": {},
   "outputs": [],
   "source": [
    "train, test = keras.datasets.cifar10.load_data()"
   ]
  },
  {
   "cell_type": "code",
   "execution_count": 3,
   "metadata": {},
   "outputs": [],
   "source": [
    "## 資料前處理\n",
    "def preproc_x(x, flatten=True):\n",
    "    x = x / 255.\n",
    "    if flatten:\n",
    "        x = x.reshape((len(x), -1))\n",
    "    return x\n",
    "\n",
    "def preproc_y(y, num_classes=10):\n",
    "    if y.shape[-1] == 1:\n",
    "        y = keras.utils.to_categorical(y, num_classes)\n",
    "    return y    "
   ]
  },
  {
   "cell_type": "code",
   "execution_count": 4,
   "metadata": {},
   "outputs": [],
   "source": [
    "x_train, y_train = train\n",
    "x_test, y_test = test\n",
    "\n",
    "# Preproc the inputs\n",
    "x_train = preproc_x(x_train)\n",
    "x_test = preproc_x(x_test)\n",
    "\n",
    "# Preprc the outputs\n",
    "y_train = preproc_y(y_train)\n",
    "y_test = preproc_y(y_test)"
   ]
  },
  {
   "cell_type": "code",
   "execution_count": 5,
   "metadata": {},
   "outputs": [],
   "source": [
    "from keras.layers import Dropout\n",
    "\n",
    "def build_mlp(input_shape, output_units=10, num_neurons=[512, 256, 128, 64], drp_ratio=0.2):\n",
    "    \"\"\"Code Here\n",
    "    建立你的神經網路\n",
    "    \"\"\"\n",
    "    input_layer = keras.layers.Input(input_shape)\n",
    "    \n",
    "    for i, n_units in enumerate(num_neurons):\n",
    "        if i == 0:\n",
    "            x = keras.layers.Dense(units=n_units, \n",
    "                                   activation=\"relu\", \n",
    "                                   name=\"hidden_layer\"+str(i+1))(input_layer)\n",
    "            x = Dropout(drp_ratio)(x)\n",
    "        else:\n",
    "            x = keras.layers.Dense(units=n_units, \n",
    "                                   activation=\"relu\", \n",
    "                                   name=\"hidden_layer\"+str(i+1))(x)\n",
    "            x = Dropout(drp_ratio)(x)\n",
    "    \n",
    "    out = keras.layers.Dense(units=output_units, activation=\"softmax\", name=\"output\")(x)\n",
    "    \n",
    "    model = keras.models.Model(inputs=[input_layer], outputs=[out])\n",
    "    \n",
    "    return model"
   ]
  },
  {
   "cell_type": "code",
   "execution_count": 6,
   "metadata": {},
   "outputs": [],
   "source": [
    "\"\"\"Code Here\n",
    "設定超參數\n",
    "\"\"\"\n",
    "LEARNING_RATE = 1e-3\n",
    "EPOCHS = 50\n",
    "BATCH_SIZE = 256\n",
    "\n",
    "Dropout_EXP = 0.25"
   ]
  },
  {
   "cell_type": "code",
   "execution_count": 7,
   "metadata": {
    "scrolled": true
   },
   "outputs": [
    {
     "name": "stdout",
     "output_type": "stream",
     "text": [
      "Model: \"functional_1\"\n",
      "_________________________________________________________________\n",
      "Layer (type)                 Output Shape              Param #   \n",
      "=================================================================\n",
      "input_1 (InputLayer)         [(None, 3072)]            0         \n",
      "_________________________________________________________________\n",
      "hidden_layer1 (Dense)        (None, 512)               1573376   \n",
      "_________________________________________________________________\n",
      "dropout (Dropout)            (None, 512)               0         \n",
      "_________________________________________________________________\n",
      "hidden_layer2 (Dense)        (None, 256)               131328    \n",
      "_________________________________________________________________\n",
      "dropout_1 (Dropout)          (None, 256)               0         \n",
      "_________________________________________________________________\n",
      "hidden_layer3 (Dense)        (None, 128)               32896     \n",
      "_________________________________________________________________\n",
      "dropout_2 (Dropout)          (None, 128)               0         \n",
      "_________________________________________________________________\n",
      "hidden_layer4 (Dense)        (None, 64)                8256      \n",
      "_________________________________________________________________\n",
      "dropout_3 (Dropout)          (None, 64)                0         \n",
      "_________________________________________________________________\n",
      "output (Dense)               (None, 10)                650       \n",
      "=================================================================\n",
      "Total params: 1,746,506\n",
      "Trainable params: 1,746,506\n",
      "Non-trainable params: 0\n",
      "_________________________________________________________________\n",
      "Epoch 1/50\n",
      "196/196 [==============================] - 3s 15ms/step - loss: 2.1310 - accuracy: 0.1988 - val_loss: 1.8784 - val_accuracy: 0.3268\n",
      "Epoch 2/50\n",
      "196/196 [==============================] - 3s 14ms/step - loss: 1.9428 - accuracy: 0.2839 - val_loss: 1.8133 - val_accuracy: 0.3517\n",
      "Epoch 3/50\n",
      "196/196 [==============================] - 3s 14ms/step - loss: 1.8803 - accuracy: 0.3123 - val_loss: 1.7751 - val_accuracy: 0.3647\n",
      "Epoch 4/50\n",
      "196/196 [==============================] - 3s 14ms/step - loss: 1.8411 - accuracy: 0.3271 - val_loss: 1.7438 - val_accuracy: 0.3812\n",
      "Epoch 5/50\n",
      "196/196 [==============================] - 3s 13ms/step - loss: 1.8182 - accuracy: 0.3369 - val_loss: 1.7117 - val_accuracy: 0.3870\n",
      "Epoch 6/50\n",
      "196/196 [==============================] - 3s 13ms/step - loss: 1.7968 - accuracy: 0.3483 - val_loss: 1.6972 - val_accuracy: 0.3996\n",
      "Epoch 7/50\n",
      "196/196 [==============================] - 3s 14ms/step - loss: 1.7725 - accuracy: 0.3565 - val_loss: 1.6829 - val_accuracy: 0.4072\n",
      "Epoch 8/50\n",
      "196/196 [==============================] - 3s 14ms/step - loss: 1.7625 - accuracy: 0.3646 - val_loss: 1.6938 - val_accuracy: 0.4013\n",
      "Epoch 9/50\n",
      "196/196 [==============================] - 3s 15ms/step - loss: 1.7502 - accuracy: 0.3678 - val_loss: 1.6547 - val_accuracy: 0.4196\n",
      "Epoch 10/50\n",
      "196/196 [==============================] - 3s 15ms/step - loss: 1.7359 - accuracy: 0.3750 - val_loss: 1.6328 - val_accuracy: 0.4271\n",
      "Epoch 11/50\n",
      "196/196 [==============================] - 3s 14ms/step - loss: 1.7315 - accuracy: 0.3747 - val_loss: 1.6367 - val_accuracy: 0.4238\n",
      "Epoch 12/50\n",
      "196/196 [==============================] - 3s 14ms/step - loss: 1.7165 - accuracy: 0.3819 - val_loss: 1.6738 - val_accuracy: 0.4068\n",
      "Epoch 13/50\n",
      "196/196 [==============================] - 3s 14ms/step - loss: 1.7056 - accuracy: 0.3846 - val_loss: 1.5899 - val_accuracy: 0.4402\n",
      "Epoch 14/50\n",
      "196/196 [==============================] - 3s 14ms/step - loss: 1.6939 - accuracy: 0.3898 - val_loss: 1.6158 - val_accuracy: 0.4331\n",
      "Epoch 15/50\n",
      "196/196 [==============================] - 3s 14ms/step - loss: 1.6910 - accuracy: 0.3902 - val_loss: 1.6082 - val_accuracy: 0.4341\n",
      "Epoch 16/50\n",
      "196/196 [==============================] - 3s 14ms/step - loss: 1.6765 - accuracy: 0.3987 - val_loss: 1.6004 - val_accuracy: 0.4328\n",
      "Epoch 17/50\n",
      "196/196 [==============================] - 3s 14ms/step - loss: 1.6726 - accuracy: 0.3984 - val_loss: 1.6058 - val_accuracy: 0.4367\n",
      "Epoch 18/50\n",
      "196/196 [==============================] - 3s 14ms/step - loss: 1.6674 - accuracy: 0.3997 - val_loss: 1.6070 - val_accuracy: 0.4301\n",
      "Epoch 19/50\n",
      "196/196 [==============================] - 3s 14ms/step - loss: 1.6624 - accuracy: 0.4029 - val_loss: 1.5770 - val_accuracy: 0.4441\n",
      "Epoch 20/50\n",
      "196/196 [==============================] - 3s 14ms/step - loss: 1.6545 - accuracy: 0.4048 - val_loss: 1.5763 - val_accuracy: 0.4451\n",
      "Epoch 21/50\n",
      "196/196 [==============================] - 3s 14ms/step - loss: 1.6528 - accuracy: 0.4047 - val_loss: 1.5854 - val_accuracy: 0.4404\n",
      "Epoch 22/50\n",
      "196/196 [==============================] - 3s 14ms/step - loss: 1.6484 - accuracy: 0.4092 - val_loss: 1.5747 - val_accuracy: 0.4462\n",
      "Epoch 23/50\n",
      "196/196 [==============================] - 3s 14ms/step - loss: 1.6451 - accuracy: 0.4104 - val_loss: 1.5774 - val_accuracy: 0.4389\n",
      "Epoch 24/50\n",
      "196/196 [==============================] - 3s 14ms/step - loss: 1.6407 - accuracy: 0.4116 - val_loss: 1.5873 - val_accuracy: 0.4393\n",
      "Epoch 25/50\n",
      "196/196 [==============================] - 3s 14ms/step - loss: 1.6315 - accuracy: 0.4128 - val_loss: 1.5567 - val_accuracy: 0.4491\n",
      "Epoch 26/50\n",
      "196/196 [==============================] - 3s 14ms/step - loss: 1.6322 - accuracy: 0.4146 - val_loss: 1.5383 - val_accuracy: 0.4614\n",
      "Epoch 27/50\n",
      "196/196 [==============================] - 3s 14ms/step - loss: 1.6287 - accuracy: 0.4152 - val_loss: 1.5900 - val_accuracy: 0.4353\n",
      "Epoch 28/50\n",
      "196/196 [==============================] - 3s 14ms/step - loss: 1.6200 - accuracy: 0.4186 - val_loss: 1.5335 - val_accuracy: 0.4537\n",
      "Epoch 29/50\n",
      "196/196 [==============================] - 3s 14ms/step - loss: 1.6176 - accuracy: 0.4199 - val_loss: 1.5468 - val_accuracy: 0.4557\n",
      "Epoch 30/50\n",
      "196/196 [==============================] - 3s 14ms/step - loss: 1.6163 - accuracy: 0.4210 - val_loss: 1.5336 - val_accuracy: 0.4575\n",
      "Epoch 31/50\n",
      "196/196 [==============================] - 3s 14ms/step - loss: 1.6071 - accuracy: 0.4242 - val_loss: 1.5332 - val_accuracy: 0.4625\n",
      "Epoch 32/50\n",
      "196/196 [==============================] - 3s 14ms/step - loss: 1.6118 - accuracy: 0.4217 - val_loss: 1.5495 - val_accuracy: 0.4529\n",
      "Epoch 33/50\n",
      "196/196 [==============================] - 3s 14ms/step - loss: 1.6017 - accuracy: 0.4267 - val_loss: 1.5353 - val_accuracy: 0.4560\n",
      "Epoch 34/50\n",
      "196/196 [==============================] - 3s 14ms/step - loss: 1.6030 - accuracy: 0.4255 - val_loss: 1.5289 - val_accuracy: 0.4600\n",
      "Epoch 35/50\n",
      "196/196 [==============================] - 3s 14ms/step - loss: 1.5991 - accuracy: 0.4283 - val_loss: 1.5213 - val_accuracy: 0.4587\n",
      "Epoch 36/50\n",
      "196/196 [==============================] - 3s 14ms/step - loss: 1.5917 - accuracy: 0.4286 - val_loss: 1.5184 - val_accuracy: 0.4542\n",
      "Epoch 37/50\n",
      "196/196 [==============================] - 3s 14ms/step - loss: 1.5964 - accuracy: 0.4279 - val_loss: 1.5523 - val_accuracy: 0.4537\n",
      "Epoch 38/50\n",
      "196/196 [==============================] - 3s 14ms/step - loss: 1.5937 - accuracy: 0.4275 - val_loss: 1.5530 - val_accuracy: 0.4508\n",
      "Epoch 39/50\n",
      "196/196 [==============================] - 3s 14ms/step - loss: 1.5846 - accuracy: 0.4340 - val_loss: 1.5176 - val_accuracy: 0.4583\n",
      "Epoch 40/50\n",
      "196/196 [==============================] - 3s 14ms/step - loss: 1.5861 - accuracy: 0.4303 - val_loss: 1.5078 - val_accuracy: 0.4647\n",
      "Epoch 41/50\n",
      "196/196 [==============================] - 3s 14ms/step - loss: 1.5847 - accuracy: 0.4347 - val_loss: 1.5101 - val_accuracy: 0.4713\n",
      "Epoch 42/50\n",
      "196/196 [==============================] - 3s 14ms/step - loss: 1.5775 - accuracy: 0.4366 - val_loss: 1.5173 - val_accuracy: 0.4638\n",
      "Epoch 43/50\n",
      "196/196 [==============================] - 3s 14ms/step - loss: 1.5713 - accuracy: 0.4368 - val_loss: 1.5141 - val_accuracy: 0.4558\n",
      "Epoch 44/50\n",
      "196/196 [==============================] - 3s 14ms/step - loss: 1.5799 - accuracy: 0.4344 - val_loss: 1.5082 - val_accuracy: 0.4631\n",
      "Epoch 45/50\n",
      "196/196 [==============================] - 3s 14ms/step - loss: 1.5770 - accuracy: 0.4350 - val_loss: 1.5019 - val_accuracy: 0.4664\n",
      "Epoch 46/50\n"
     ]
    },
    {
     "name": "stdout",
     "output_type": "stream",
     "text": [
      "196/196 [==============================] - 3s 14ms/step - loss: 1.5697 - accuracy: 0.4385 - val_loss: 1.5007 - val_accuracy: 0.4731\n",
      "Epoch 47/50\n",
      "196/196 [==============================] - 3s 14ms/step - loss: 1.5680 - accuracy: 0.4405 - val_loss: 1.4952 - val_accuracy: 0.4621\n",
      "Epoch 48/50\n",
      "196/196 [==============================] - 3s 14ms/step - loss: 1.5604 - accuracy: 0.4415 - val_loss: 1.5022 - val_accuracy: 0.4603\n",
      "Epoch 49/50\n",
      "196/196 [==============================] - 3s 14ms/step - loss: 1.5718 - accuracy: 0.4365 - val_loss: 1.5149 - val_accuracy: 0.4529\n",
      "Epoch 50/50\n",
      "196/196 [==============================] - 3s 14ms/step - loss: 1.5637 - accuracy: 0.4395 - val_loss: 1.5132 - val_accuracy: 0.4676\n"
     ]
    }
   ],
   "source": [
    "results = {}\n",
    "\"\"\"Code Here\n",
    "撰寫你的訓練流程並將結果用 dictionary 紀錄\n",
    "\"\"\"\n",
    "model = build_mlp(input_shape=x_train.shape[1:], drp_ratio=Dropout_EXP)\n",
    "model.summary()\n",
    "optimizer = keras.optimizers.Adam(lr=LEARNING_RATE, beta_1=0.9, beta_2=0.999, epsilon=None, decay=0.0, amsgrad=False)\n",
    "model.compile(loss=\"categorical_crossentropy\", metrics=[\"accuracy\"], optimizer=optimizer)\n",
    "\n",
    "model.fit(x_train, y_train, \n",
    "          epochs=EPOCHS, \n",
    "          batch_size=BATCH_SIZE, \n",
    "          validation_data=(x_test, y_test), \n",
    "          shuffle=True)\n",
    "\n",
    "# Collect results\n",
    "train_loss = model.history.history[\"loss\"]\n",
    "valid_loss = model.history.history[\"val_loss\"]\n",
    "train_acc = model.history.history[\"accuracy\"]\n",
    "valid_acc = model.history.history[\"val_accuracy\"]"
   ]
  },
  {
   "cell_type": "code",
   "execution_count": 8,
   "metadata": {},
   "outputs": [
    {
     "data": {
      "image/png": "[encoded data removed]",
      "text/plain": [
       "<Figure size 432x288 with 1 Axes>"
      ]
     },
     "metadata": {
      "needs_background": "light"
     },
     "output_type": "display_data"
    },
    {
     "data": {
      "image/png": "[encoded data removed]",
      "text/plain": [
       "<Figure size 432x288 with 1 Axes>"
      ]
     },
     "metadata": {
      "needs_background": "light"
     },
     "output_type": "display_data"
    }
   ],
   "source": [
    "import matplotlib.pyplot as plt\n",
    "%matplotlib inline\n",
    "\"\"\"Code Here\n",
    "將結果繪出\n",
    "\"\"\"\n",
    "import matplotlib.pyplot as plt\n",
    "%matplotlib inline\n",
    "\n",
    "plt.plot(range(len(train_loss)), train_loss, label=\"train loss\")\n",
    "plt.plot(range(len(valid_loss)), valid_loss, label=\"valid loss\")\n",
    "plt.legend()\n",
    "plt.title(\"Loss\")\n",
    "plt.show()\n",
    "\n",
    "plt.plot(range(len(train_acc)), train_acc, label=\"train accuracy\")\n",
    "plt.plot(range(len(valid_acc)), valid_acc, label=\"valid accuracy\")\n",
    "plt.legend()\n",
    "plt.title(\"Accuracy\")\n",
    "plt.show()"
   ]
  },
  {
   "cell_type": "code",
   "execution_count": null,
   "metadata": {},
   "outputs": [],
   "source": []
  }
 ],
 "metadata": {
  "kernelspec": {
   "display_name": "Python 3",
   "language": "python",
   "name": "python3"
  },
  "language_info": {
   "codemirror_mode": {
    "name": "ipython",
    "version": 3
   },
   "file_extension": ".py",
   "mimetype": "text/x-python",
   "name": "python",
   "nbconvert_exporter": "python",
   "pygments_lexer": "ipython3",
   "version": "3.7.6"
  }
 },
 "nbformat": 4,
 "nbformat_minor": 2
}
