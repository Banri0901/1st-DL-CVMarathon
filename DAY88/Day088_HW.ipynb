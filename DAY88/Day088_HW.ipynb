{
 "cells": [
  {
   "cell_type": "markdown",
   "metadata": {},
   "source": [
    "## Work\n",
    "1. 請嘗試寫一個 callback 用來記錄各類別在訓練過程中，對驗證集的 True Positive 與 True Negative"
   ]
  },
  {
   "cell_type": "code",
   "execution_count": 1,
   "metadata": {},
   "outputs": [],
   "source": [
    "import os\n",
    "import keras\n",
    "\n",
    "# Disable GPU\n",
    "os.environ[\"CUDA_VISIBLE_DEVICES\"] = \"\""
   ]
  },
  {
   "cell_type": "code",
   "execution_count": 2,
   "metadata": {},
   "outputs": [],
   "source": [
    "train, test = keras.datasets.cifar10.load_data()"
   ]
  },
  {
   "cell_type": "code",
   "execution_count": 3,
   "metadata": {},
   "outputs": [],
   "source": [
    "## 資料前處理\n",
    "def preproc_x(x, flatten=True):\n",
    "    x = x / 255.\n",
    "    if flatten:\n",
    "        x = x.reshape((len(x), -1))\n",
    "    return x\n",
    "\n",
    "def preproc_y(y, num_classes=10):\n",
    "    if y.shape[-1] == 1:\n",
    "        y = keras.utils.to_categorical(y, num_classes)\n",
    "    return y    "
   ]
  },
  {
   "cell_type": "code",
   "execution_count": 4,
   "metadata": {},
   "outputs": [],
   "source": [
    "x_train, y_train = train\n",
    "x_test, y_test = test\n",
    "\n",
    "# Preproc the inputs\n",
    "x_train = preproc_x(x_train)\n",
    "x_test = preproc_x(x_test)\n",
    "\n",
    "# Preprc the outputs\n",
    "y_train = preproc_y(y_train)\n",
    "y_test = preproc_y(y_test)"
   ]
  },
  {
   "cell_type": "code",
   "execution_count": 5,
   "metadata": {},
   "outputs": [],
   "source": [
    "from keras.layers import BatchNormalization\n",
    "def build_mlp(input_shape, output_units=10, num_neurons=[256, 256, 256]):\n",
    "    \"\"\"Code Here\n",
    "    建立你的神經網路\n",
    "    \"\"\"\n",
    "    input_layer = keras.layers.Input(input_shape)\n",
    "    \n",
    "    for i, n_units in enumerate(num_neurons):\n",
    "        if i == 0:\n",
    "            x = keras.layers.Dense(units=n_units, \n",
    "                                   activation=\"relu\", \n",
    "                                   name=\"hidden_layer\"+str(i+1))(input_layer)\n",
    "            x = BatchNormalization()(x)\n",
    "        else:\n",
    "            x = keras.layers.Dense(units=n_units, \n",
    "                                   activation=\"relu\", \n",
    "                                   name=\"hidden_layer\"+str(i+1))(x)\n",
    "            x = BatchNormalization()(x)\n",
    "    \n",
    "    out = keras.layers.Dense(units=output_units, activation=\"softmax\", name=\"output\")(x)\n",
    "    \n",
    "    model = keras.models.Model(inputs=[input_layer], outputs=[out])\n",
    "    return model"
   ]
  },
  {
   "cell_type": "code",
   "execution_count": 6,
   "metadata": {},
   "outputs": [],
   "source": [
    "## 超參數設定\n",
    "LEARNING_RATE = 1e-3\n",
    "EPOCHS = 25\n",
    "BATCH_SIZE = 1024\n",
    "MOMENTUM = 0.95"
   ]
  },
  {
   "cell_type": "code",
   "execution_count": 7,
   "metadata": {},
   "outputs": [],
   "source": [
    "# 載入 Callbacks\n",
    "from keras.callbacks import Callback\n",
    "\n",
    "# Record_fp_tp\n",
    "class Record_tp_tn(Callback):\n",
    "    \"\"\"Code Here\n",
    "    撰寫一個紀錄 ture positive 與 true negative 數量的 callbacks    \n",
    "    \"\"\"\n",
    "    def __init__(self, validation_data):\n",
    "        self.validation_data = validation_data\n",
    "        \n",
    "    def on_train_begin(self, epoch, logs = {}):\n",
    "        logs = logs or {}\n",
    "        record_items = [\"val_tp\", \"val_tn\"]\n",
    "        for i in record_items:\n",
    "            if i not in logs.keys():\n",
    "                logs[i]=[]\n",
    "\n",
    "    def on_epoch_end(self, epoch, logs = {}, thres=0.5):\n",
    "        logs = logs or {}\n",
    "        y_true = self.validation_data[1].argmax(axis = 1)\n",
    "        y_pred = self.model.predict(self.validation_data[0])\n",
    "        y_pred = (y_pred[:, 1] >= thres) * 1\n",
    "\n",
    "        val_tp = sum(y_true*y_pred)\n",
    "        val_tn = sum((y_true==0) & (y_pred==0))\n",
    "        \n",
    "        logs[\"val_tp\"] = val_tp\n",
    "        logs[\"val_tn\"] = val_tn\n",
    "    \n",
    "        \n",
    "rec_tptn = Record_tp_tn((x_test,y_test))"
   ]
  },
  {
   "cell_type": "code",
   "execution_count": 16,
   "metadata": {
    "scrolled": true
   },
   "outputs": [
    {
     "name": "stdout",
     "output_type": "stream",
     "text": [
      "Model: \"functional_3\"\n",
      "_________________________________________________________________\n",
      "Layer (type)                 Output Shape              Param #   \n",
      "=================================================================\n",
      "input_2 (InputLayer)         [(None, 3072)]            0         \n",
      "_________________________________________________________________\n",
      "hidden_layer1 (Dense)        (None, 256)               786688    \n",
      "_________________________________________________________________\n",
      "batch_normalization_3 (Batch (None, 256)               1024      \n",
      "_________________________________________________________________\n",
      "hidden_layer2 (Dense)        (None, 256)               65792     \n",
      "_________________________________________________________________\n",
      "batch_normalization_4 (Batch (None, 256)               1024      \n",
      "_________________________________________________________________\n",
      "hidden_layer3 (Dense)        (None, 256)               65792     \n",
      "_________________________________________________________________\n",
      "batch_normalization_5 (Batch (None, 256)               1024      \n",
      "_________________________________________________________________\n",
      "output (Dense)               (None, 10)                2570      \n",
      "=================================================================\n",
      "Total params: 923,914\n",
      "Trainable params: 922,378\n",
      "Non-trainable params: 1,536\n",
      "_________________________________________________________________\n",
      "Epoch 1/25\n",
      "49/49 [==============================] - 4s 76ms/step - loss: 2.2073 - accuracy: 0.2695 - val_loss: 2.1590 - val_accuracy: 0.2058\n",
      "Epoch 2/25\n",
      "49/49 [==============================] - 4s 73ms/step - loss: 1.7625 - accuracy: 0.3842 - val_loss: 1.9875 - val_accuracy: 0.2864\n",
      "Epoch 3/25\n",
      "49/49 [==============================] - 4s 75ms/step - loss: 1.6307 - accuracy: 0.4289 - val_loss: 1.8347 - val_accuracy: 0.3651\n",
      "Epoch 4/25\n",
      "49/49 [==============================] - 3s 71ms/step - loss: 1.5594 - accuracy: 0.4549 - val_loss: 1.7250 - val_accuracy: 0.4003\n",
      "Epoch 5/25\n",
      "49/49 [==============================] - 3s 71ms/step - loss: 1.5050 - accuracy: 0.4719 - val_loss: 1.6280 - val_accuracy: 0.4356\n",
      "Epoch 6/25\n",
      "49/49 [==============================] - 4s 72ms/step - loss: 1.4625 - accuracy: 0.4861 - val_loss: 1.5687 - val_accuracy: 0.4484\n",
      "Epoch 7/25\n",
      "49/49 [==============================] - 4s 73ms/step - loss: 1.4261 - accuracy: 0.4985 - val_loss: 1.5398 - val_accuracy: 0.4584\n",
      "Epoch 8/25\n",
      "49/49 [==============================] - 4s 73ms/step - loss: 1.3928 - accuracy: 0.5122 - val_loss: 1.5169 - val_accuracy: 0.4652\n",
      "Epoch 9/25\n",
      "49/49 [==============================] - 4s 72ms/step - loss: 1.3629 - accuracy: 0.5214 - val_loss: 1.5114 - val_accuracy: 0.4692\n",
      "Epoch 10/25\n",
      "49/49 [==============================] - 4s 74ms/step - loss: 1.3361 - accuracy: 0.5336 - val_loss: 1.5078 - val_accuracy: 0.4707\n",
      "Epoch 11/25\n",
      "49/49 [==============================] - 4s 73ms/step - loss: 1.3145 - accuracy: 0.5412 - val_loss: 1.4905 - val_accuracy: 0.4783\n",
      "Epoch 12/25\n",
      "49/49 [==============================] - 4s 71ms/step - loss: 1.2878 - accuracy: 0.5516 - val_loss: 1.4833 - val_accuracy: 0.4834\n",
      "Epoch 13/25\n",
      "49/49 [==============================] - 4s 72ms/step - loss: 1.2667 - accuracy: 0.5587 - val_loss: 1.4699 - val_accuracy: 0.4837\n",
      "Epoch 14/25\n",
      "49/49 [==============================] - 4s 73ms/step - loss: 1.2442 - accuracy: 0.5672 - val_loss: 1.4719 - val_accuracy: 0.4866\n",
      "Epoch 15/25\n",
      "49/49 [==============================] - 4s 72ms/step - loss: 1.2254 - accuracy: 0.5742 - val_loss: 1.4538 - val_accuracy: 0.4896\n",
      "Epoch 16/25\n",
      "49/49 [==============================] - 4s 73ms/step - loss: 1.2052 - accuracy: 0.5816 - val_loss: 1.4535 - val_accuracy: 0.4903\n",
      "Epoch 17/25\n",
      "49/49 [==============================] - 3s 71ms/step - loss: 1.1851 - accuracy: 0.5890 - val_loss: 1.4561 - val_accuracy: 0.4928\n",
      "Epoch 18/25\n",
      "49/49 [==============================] - 4s 75ms/step - loss: 1.1666 - accuracy: 0.5964 - val_loss: 1.4537 - val_accuracy: 0.4852\n",
      "Epoch 19/25\n",
      "49/49 [==============================] - 4s 73ms/step - loss: 1.1488 - accuracy: 0.6024 - val_loss: 1.4521 - val_accuracy: 0.4927\n",
      "Epoch 20/25\n",
      "49/49 [==============================] - 4s 74ms/step - loss: 1.1317 - accuracy: 0.6086 - val_loss: 1.4432 - val_accuracy: 0.4927\n",
      "Epoch 21/25\n",
      "49/49 [==============================] - 4s 72ms/step - loss: 1.1132 - accuracy: 0.6164 - val_loss: 1.4414 - val_accuracy: 0.4968\n",
      "Epoch 22/25\n",
      "49/49 [==============================] - 4s 82ms/step - loss: 1.0971 - accuracy: 0.6215 - val_loss: 1.4359 - val_accuracy: 0.4981\n",
      "Epoch 23/25\n",
      "49/49 [==============================] - 4s 78ms/step - loss: 1.0805 - accuracy: 0.6281 - val_loss: 1.4526 - val_accuracy: 0.4951\n",
      "Epoch 24/25\n",
      "49/49 [==============================] - 4s 76ms/step - loss: 1.0625 - accuracy: 0.6334 - val_loss: 1.4414 - val_accuracy: 0.4936\n",
      "Epoch 25/25\n",
      "49/49 [==============================] - 4s 75ms/step - loss: 1.0457 - accuracy: 0.6422 - val_loss: 1.4575 - val_accuracy: 0.4931\n"
     ]
    }
   ],
   "source": [
    "model = build_mlp(input_shape=x_train.shape[1:])\n",
    "model.summary()\n",
    "optimizer = keras.optimizers.SGD(lr=LEARNING_RATE, nesterov=True, momentum=MOMENTUM)\n",
    "model.compile(loss=\"categorical_crossentropy\", metrics=[\"accuracy\"], optimizer=optimizer)\n",
    "\n",
    "\"\"\"Code Here\n",
    "將 callbacks 放入模型訓練流程中\n",
    "\"\"\"\n",
    "model.fit(x_train, y_train, \n",
    "          epochs=EPOCHS, \n",
    "          batch_size=BATCH_SIZE, \n",
    "          validation_data=(x_test, y_test), \n",
    "          shuffle=True,\n",
    "          callbacks=[rec_tptn]\n",
    "         )\n",
    "\n",
    "# Collect results\n",
    "train_loss = model.history.history[\"loss\"]\n",
    "valid_loss = model.history.history[\"val_loss\"]\n",
    "train_acc = model.history.history[\"accuracy\"]\n",
    "valid_acc = model.history.history[\"val_accuracy\"]\n",
    "\n",
    "\"\"\"Code Here\n",
    "將 tp/tn 從訓練完的模型中取出\n",
    "\"\"\"\n",
    "valid_tp = model.history.history[\"val_tp\"]\n",
    "valid_tn = model.history.history[\"val_tn\"]"
   ]
  },
  {
   "cell_type": "code",
   "execution_count": 17,
   "metadata": {},
   "outputs": [
    {
     "data": {
      "image/png": "[encoded data removed]",
      "text/plain": [
       "<Figure size 432x288 with 1 Axes>"
      ]
     },
     "metadata": {
      "needs_background": "light"
     },
     "output_type": "display_data"
    },
    {
     "data": {
      "image/png": "[encoded data removed]",
      "text/plain": [
       "<Figure size 432x288 with 1 Axes>"
      ]
     },
     "metadata": {
      "needs_background": "light"
     },
     "output_type": "display_data"
    },
    {
     "data": {
      "image/png": "[encoded data removed]",
      "text/plain": [
       "<Figure size 432x288 with 1 Axes>"
      ]
     },
     "metadata": {
      "needs_background": "light"
     },
     "output_type": "display_data"
    }
   ],
   "source": [
    "import matplotlib.pyplot as plt\n",
    "%matplotlib inline\n",
    "\n",
    "plt.plot(range(len(train_loss)), train_loss, label=\"train loss\")\n",
    "plt.plot(range(len(valid_loss)), valid_loss, label=\"valid loss\")\n",
    "plt.legend()\n",
    "plt.title(\"Loss\")\n",
    "plt.show()\n",
    "\n",
    "plt.plot(range(len(train_acc)), train_acc, label=\"train accuracy\")\n",
    "plt.plot(range(len(valid_acc)), valid_acc, label=\"valid accuracy\")\n",
    "plt.legend()\n",
    "plt.title(\"Accuracy\")\n",
    "plt.show()\n",
    "\n",
    "plt.plot(range(len(valid_tp)), valid_tp, label=\"valid tp\", color=\"navy\")\n",
    "plt.plot(range(len(valid_tn)), valid_tn, label=\"valid tn\", color=\"red\")\n",
    "plt.legend()\n",
    "plt.title(\"True positives and True Negatives\")\n",
    "plt.show()\n"
   ]
  },
  {
   "cell_type": "code",
   "execution_count": null,
   "metadata": {},
   "outputs": [],
   "source": []
  }
 ],
 "metadata": {
  "kernelspec": {
   "display_name": "Python 3",
   "language": "python",
   "name": "python3"
  },
  "language_info": {
   "codemirror_mode": {
    "name": "ipython",
    "version": 3
   },
   "file_extension": ".py",
   "mimetype": "text/x-python",
   "name": "python",
   "nbconvert_exporter": "python",
   "pygments_lexer": "ipython3",
   "version": "3.7.6"
  }
 },
 "nbformat": 4,
 "nbformat_minor": 2
}
