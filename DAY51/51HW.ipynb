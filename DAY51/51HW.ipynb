{
 "cells": [
  {
   "cell_type": "code",
   "execution_count": 1,
   "metadata": {},
   "outputs": [],
   "source": [
    "import pandas as pd\n",
    "import numpy as np\n",
    "import copy, time, os\n",
    "import warnings\n",
    "warnings.filterwarnings('ignore')\n",
    "from IPython.display import display\n",
    "from sklearn.preprocessing import MinMaxScaler\n",
    "from sklearn.model_selection import cross_val_score\n",
    "from sklearn.linear_model import LogisticRegression, LinearRegression\n",
    "from sklearn.ensemble import RandomForestClassifier, GradientBoostingClassifier\n",
    "from sklearn.preprocessing import LabelEncoder"
   ]
  },
  {
   "cell_type": "code",
   "execution_count": 2,
   "metadata": {},
   "outputs": [
    {
     "name": "stdout",
     "output_type": "stream",
     "text": [
      "['enron61702insiderpay.pdf', 'sample_submission.csv', 'test_features.csv', 'train_data.csv']\n"
     ]
    }
   ],
   "source": [
    "print(os.listdir('data/'))"
   ]
  },
  {
   "cell_type": "code",
   "execution_count": 3,
   "metadata": {},
   "outputs": [
    {
     "data": {
      "text/plain": [
       "((113, 22), (33, 21), (33, 2))"
      ]
     },
     "execution_count": 3,
     "metadata": {},
     "output_type": "execute_result"
    }
   ],
   "source": [
    "data_path = 'data/'\n",
    "df_train = pd.read_csv(data_path + 'train_data.csv')\n",
    "df_test = pd.read_csv(data_path + 'test_features.csv')\n",
    "df_sample_submission = pd.read_csv(data_path + 'sample_submission.csv')\n",
    "df_train.shape, df_test.shape, df_sample_submission.shape"
   ]
  },
  {
   "cell_type": "code",
   "execution_count": 4,
   "metadata": {},
   "outputs": [
    {
     "data": {
      "text/html": [
       "<div>\n",
       "<style scoped>\n",
       "    .dataframe tbody tr th:only-of-type {\n",
       "        vertical-align: middle;\n",
       "    }\n",
       "\n",
       "    .dataframe tbody tr th {\n",
       "        vertical-align: top;\n",
       "    }\n",
       "\n",
       "    .dataframe thead th {\n",
       "        text-align: right;\n",
       "    }\n",
       "</style>\n",
       "<table border=\"1\" class=\"dataframe\">\n",
       "  <thead>\n",
       "    <tr style=\"text-align: right;\">\n",
       "      <th></th>\n",
       "      <th>name</th>\n",
       "      <th>bonus</th>\n",
       "      <th>deferral_payments</th>\n",
       "      <th>deferred_income</th>\n",
       "      <th>director_fees</th>\n",
       "      <th>email_address</th>\n",
       "      <th>exercised_stock_options</th>\n",
       "      <th>expenses</th>\n",
       "      <th>from_messages</th>\n",
       "      <th>from_poi_to_this_person</th>\n",
       "      <th>...</th>\n",
       "      <th>long_term_incentive</th>\n",
       "      <th>other</th>\n",
       "      <th>poi</th>\n",
       "      <th>restricted_stock</th>\n",
       "      <th>restricted_stock_deferred</th>\n",
       "      <th>salary</th>\n",
       "      <th>shared_receipt_with_poi</th>\n",
       "      <th>to_messages</th>\n",
       "      <th>total_payments</th>\n",
       "      <th>total_stock_value</th>\n",
       "    </tr>\n",
       "  </thead>\n",
       "  <tbody>\n",
       "    <tr>\n",
       "      <th>0</th>\n",
       "      <td>RICE KENNETH D</td>\n",
       "      <td>1750000.0</td>\n",
       "      <td>NaN</td>\n",
       "      <td>-3504386.0</td>\n",
       "      <td>NaN</td>\n",
       "      <td>ken.rice@enron.com</td>\n",
       "      <td>19794175.0</td>\n",
       "      <td>46950.0</td>\n",
       "      <td>18.0</td>\n",
       "      <td>42.0</td>\n",
       "      <td>...</td>\n",
       "      <td>1617011.0</td>\n",
       "      <td>174839.0</td>\n",
       "      <td>True</td>\n",
       "      <td>2748364.0</td>\n",
       "      <td>NaN</td>\n",
       "      <td>420636.0</td>\n",
       "      <td>864.0</td>\n",
       "      <td>905.0</td>\n",
       "      <td>505050.0</td>\n",
       "      <td>22542539.0</td>\n",
       "    </tr>\n",
       "    <tr>\n",
       "      <th>1</th>\n",
       "      <td>SKILLING JEFFREY K</td>\n",
       "      <td>5600000.0</td>\n",
       "      <td>NaN</td>\n",
       "      <td>NaN</td>\n",
       "      <td>NaN</td>\n",
       "      <td>jeff.skilling@enron.com</td>\n",
       "      <td>19250000.0</td>\n",
       "      <td>29336.0</td>\n",
       "      <td>108.0</td>\n",
       "      <td>88.0</td>\n",
       "      <td>...</td>\n",
       "      <td>1920000.0</td>\n",
       "      <td>22122.0</td>\n",
       "      <td>True</td>\n",
       "      <td>6843672.0</td>\n",
       "      <td>NaN</td>\n",
       "      <td>1111258.0</td>\n",
       "      <td>2042.0</td>\n",
       "      <td>3627.0</td>\n",
       "      <td>8682716.0</td>\n",
       "      <td>26093672.0</td>\n",
       "    </tr>\n",
       "    <tr>\n",
       "      <th>2</th>\n",
       "      <td>SHELBY REX</td>\n",
       "      <td>200000.0</td>\n",
       "      <td>NaN</td>\n",
       "      <td>-4167.0</td>\n",
       "      <td>NaN</td>\n",
       "      <td>rex.shelby@enron.com</td>\n",
       "      <td>1624396.0</td>\n",
       "      <td>22884.0</td>\n",
       "      <td>39.0</td>\n",
       "      <td>13.0</td>\n",
       "      <td>...</td>\n",
       "      <td>NaN</td>\n",
       "      <td>1573324.0</td>\n",
       "      <td>True</td>\n",
       "      <td>869220.0</td>\n",
       "      <td>NaN</td>\n",
       "      <td>211844.0</td>\n",
       "      <td>91.0</td>\n",
       "      <td>225.0</td>\n",
       "      <td>2003885.0</td>\n",
       "      <td>2493616.0</td>\n",
       "    </tr>\n",
       "    <tr>\n",
       "      <th>3</th>\n",
       "      <td>KOPPER MICHAEL J</td>\n",
       "      <td>800000.0</td>\n",
       "      <td>NaN</td>\n",
       "      <td>NaN</td>\n",
       "      <td>NaN</td>\n",
       "      <td>michael.kopper@enron.com</td>\n",
       "      <td>NaN</td>\n",
       "      <td>118134.0</td>\n",
       "      <td>NaN</td>\n",
       "      <td>NaN</td>\n",
       "      <td>...</td>\n",
       "      <td>602671.0</td>\n",
       "      <td>907502.0</td>\n",
       "      <td>True</td>\n",
       "      <td>985032.0</td>\n",
       "      <td>NaN</td>\n",
       "      <td>224305.0</td>\n",
       "      <td>NaN</td>\n",
       "      <td>NaN</td>\n",
       "      <td>2652612.0</td>\n",
       "      <td>985032.0</td>\n",
       "    </tr>\n",
       "    <tr>\n",
       "      <th>4</th>\n",
       "      <td>CALGER CHRISTOPHER F</td>\n",
       "      <td>1250000.0</td>\n",
       "      <td>NaN</td>\n",
       "      <td>-262500.0</td>\n",
       "      <td>NaN</td>\n",
       "      <td>christopher.calger@enron.com</td>\n",
       "      <td>NaN</td>\n",
       "      <td>35818.0</td>\n",
       "      <td>144.0</td>\n",
       "      <td>199.0</td>\n",
       "      <td>...</td>\n",
       "      <td>375304.0</td>\n",
       "      <td>486.0</td>\n",
       "      <td>True</td>\n",
       "      <td>126027.0</td>\n",
       "      <td>NaN</td>\n",
       "      <td>240189.0</td>\n",
       "      <td>2188.0</td>\n",
       "      <td>2598.0</td>\n",
       "      <td>1639297.0</td>\n",
       "      <td>126027.0</td>\n",
       "    </tr>\n",
       "  </tbody>\n",
       "</table>\n",
       "<p>5 rows × 22 columns</p>\n",
       "</div>"
      ],
      "text/plain": [
       "                   name      bonus  deferral_payments  deferred_income  \\\n",
       "0        RICE KENNETH D  1750000.0                NaN       -3504386.0   \n",
       "1    SKILLING JEFFREY K  5600000.0                NaN              NaN   \n",
       "2            SHELBY REX   200000.0                NaN          -4167.0   \n",
       "3      KOPPER MICHAEL J   800000.0                NaN              NaN   \n",
       "4  CALGER CHRISTOPHER F  1250000.0                NaN        -262500.0   \n",
       "\n",
       "   director_fees                 email_address  exercised_stock_options  \\\n",
       "0            NaN            ken.rice@enron.com               19794175.0   \n",
       "1            NaN       jeff.skilling@enron.com               19250000.0   \n",
       "2            NaN          rex.shelby@enron.com                1624396.0   \n",
       "3            NaN      michael.kopper@enron.com                      NaN   \n",
       "4            NaN  christopher.calger@enron.com                      NaN   \n",
       "\n",
       "   expenses  from_messages  from_poi_to_this_person  ...  long_term_incentive  \\\n",
       "0   46950.0           18.0                     42.0  ...            1617011.0   \n",
       "1   29336.0          108.0                     88.0  ...            1920000.0   \n",
       "2   22884.0           39.0                     13.0  ...                  NaN   \n",
       "3  118134.0            NaN                      NaN  ...             602671.0   \n",
       "4   35818.0          144.0                    199.0  ...             375304.0   \n",
       "\n",
       "       other   poi  restricted_stock  restricted_stock_deferred     salary  \\\n",
       "0   174839.0  True         2748364.0                        NaN   420636.0   \n",
       "1    22122.0  True         6843672.0                        NaN  1111258.0   \n",
       "2  1573324.0  True          869220.0                        NaN   211844.0   \n",
       "3   907502.0  True          985032.0                        NaN   224305.0   \n",
       "4      486.0  True          126027.0                        NaN   240189.0   \n",
       "\n",
       "   shared_receipt_with_poi  to_messages  total_payments  total_stock_value  \n",
       "0                    864.0        905.0        505050.0         22542539.0  \n",
       "1                   2042.0       3627.0       8682716.0         26093672.0  \n",
       "2                     91.0        225.0       2003885.0          2493616.0  \n",
       "3                      NaN          NaN       2652612.0           985032.0  \n",
       "4                   2188.0       2598.0       1639297.0           126027.0  \n",
       "\n",
       "[5 rows x 22 columns]"
      ]
     },
     "execution_count": 4,
     "metadata": {},
     "output_type": "execute_result"
    }
   ],
   "source": [
    "df_train.head()"
   ]
  },
  {
   "cell_type": "code",
   "execution_count": 5,
   "metadata": {},
   "outputs": [
    {
     "data": {
      "text/html": [
       "<div>\n",
       "<style scoped>\n",
       "    .dataframe tbody tr th:only-of-type {\n",
       "        vertical-align: middle;\n",
       "    }\n",
       "\n",
       "    .dataframe tbody tr th {\n",
       "        vertical-align: top;\n",
       "    }\n",
       "\n",
       "    .dataframe thead th {\n",
       "        text-align: right;\n",
       "    }\n",
       "</style>\n",
       "<table border=\"1\" class=\"dataframe\">\n",
       "  <thead>\n",
       "    <tr style=\"text-align: right;\">\n",
       "      <th></th>\n",
       "      <th>0</th>\n",
       "    </tr>\n",
       "  </thead>\n",
       "  <tbody>\n",
       "    <tr>\n",
       "      <th>0</th>\n",
       "      <td>1</td>\n",
       "    </tr>\n",
       "    <tr>\n",
       "      <th>1</th>\n",
       "      <td>1</td>\n",
       "    </tr>\n",
       "    <tr>\n",
       "      <th>2</th>\n",
       "      <td>1</td>\n",
       "    </tr>\n",
       "    <tr>\n",
       "      <th>3</th>\n",
       "      <td>1</td>\n",
       "    </tr>\n",
       "    <tr>\n",
       "      <th>4</th>\n",
       "      <td>1</td>\n",
       "    </tr>\n",
       "    <tr>\n",
       "      <th>...</th>\n",
       "      <td>...</td>\n",
       "    </tr>\n",
       "    <tr>\n",
       "      <th>108</th>\n",
       "      <td>0</td>\n",
       "    </tr>\n",
       "    <tr>\n",
       "      <th>109</th>\n",
       "      <td>0</td>\n",
       "    </tr>\n",
       "    <tr>\n",
       "      <th>110</th>\n",
       "      <td>0</td>\n",
       "    </tr>\n",
       "    <tr>\n",
       "      <th>111</th>\n",
       "      <td>0</td>\n",
       "    </tr>\n",
       "    <tr>\n",
       "      <th>112</th>\n",
       "      <td>0</td>\n",
       "    </tr>\n",
       "  </tbody>\n",
       "</table>\n",
       "<p>113 rows × 1 columns</p>\n",
       "</div>"
      ],
      "text/plain": [
       "     0\n",
       "0    1\n",
       "1    1\n",
       "2    1\n",
       "3    1\n",
       "4    1\n",
       "..  ..\n",
       "108  0\n",
       "109  0\n",
       "110  0\n",
       "111  0\n",
       "112  0\n",
       "\n",
       "[113 rows x 1 columns]"
      ]
     },
     "execution_count": 5,
     "metadata": {},
     "output_type": "execute_result"
    }
   ],
   "source": [
    "train_Y = pd.DataFrame(LabelEncoder().fit_transform(df_train['poi']))\n",
    "df_train['poi'] = train_Y\n",
    "df_train.pop('poi')\n",
    "train_Y"
   ]
  },
  {
   "cell_type": "code",
   "execution_count": 6,
   "metadata": {},
   "outputs": [
    {
     "data": {
      "text/plain": [
       "(146, 21)"
      ]
     },
     "execution_count": 6,
     "metadata": {},
     "output_type": "execute_result"
    }
   ],
   "source": [
    "#合併資料 一起做特徵工程\n",
    "train_num = train_Y.shape[0]\n",
    "all_data = pd.concat([df_train, df_test])\n",
    "all_data.shape"
   ]
  },
  {
   "cell_type": "code",
   "execution_count": 7,
   "metadata": {},
   "outputs": [
    {
     "data": {
      "text/plain": [
       "0           RICE KENNETH D\n",
       "1       SKILLING JEFFREY K\n",
       "2               SHELBY REX\n",
       "3         KOPPER MICHAEL J\n",
       "4     CALGER CHRISTOPHER F\n",
       "              ...         \n",
       "28         BIBI PHILIPPE A\n",
       "29         SHERRIFF JOHN R\n",
       "30            GIBBS DANA R\n",
       "31          LINDHOLM TOD A\n",
       "32         MCMAHON JEFFREY\n",
       "Name: name, Length: 146, dtype: object"
      ]
     },
     "execution_count": 7,
     "metadata": {},
     "output_type": "execute_result"
    }
   ],
   "source": [
    "name = df_test['name']\n",
    "all_data.pop('name')"
   ]
  },
  {
   "cell_type": "code",
   "execution_count": 8,
   "metadata": {},
   "outputs": [
    {
     "data": {
      "text/html": [
       "<div>\n",
       "<style scoped>\n",
       "    .dataframe tbody tr th:only-of-type {\n",
       "        vertical-align: middle;\n",
       "    }\n",
       "\n",
       "    .dataframe tbody tr th {\n",
       "        vertical-align: top;\n",
       "    }\n",
       "\n",
       "    .dataframe thead th {\n",
       "        text-align: right;\n",
       "    }\n",
       "</style>\n",
       "<table border=\"1\" class=\"dataframe\">\n",
       "  <thead>\n",
       "    <tr style=\"text-align: right;\">\n",
       "      <th></th>\n",
       "      <th>Missing Ratio</th>\n",
       "    </tr>\n",
       "  </thead>\n",
       "  <tbody>\n",
       "    <tr>\n",
       "      <th>loan_advances</th>\n",
       "      <td>97.260274</td>\n",
       "    </tr>\n",
       "    <tr>\n",
       "      <th>director_fees</th>\n",
       "      <td>88.356164</td>\n",
       "    </tr>\n",
       "    <tr>\n",
       "      <th>restricted_stock_deferred</th>\n",
       "      <td>87.671233</td>\n",
       "    </tr>\n",
       "    <tr>\n",
       "      <th>deferral_payments</th>\n",
       "      <td>73.287671</td>\n",
       "    </tr>\n",
       "    <tr>\n",
       "      <th>deferred_income</th>\n",
       "      <td>66.438356</td>\n",
       "    </tr>\n",
       "    <tr>\n",
       "      <th>long_term_incentive</th>\n",
       "      <td>54.794521</td>\n",
       "    </tr>\n",
       "    <tr>\n",
       "      <th>bonus</th>\n",
       "      <td>43.835616</td>\n",
       "    </tr>\n",
       "    <tr>\n",
       "      <th>from_messages</th>\n",
       "      <td>41.095890</td>\n",
       "    </tr>\n",
       "    <tr>\n",
       "      <th>from_poi_to_this_person</th>\n",
       "      <td>41.095890</td>\n",
       "    </tr>\n",
       "    <tr>\n",
       "      <th>from_this_person_to_poi</th>\n",
       "      <td>41.095890</td>\n",
       "    </tr>\n",
       "  </tbody>\n",
       "</table>\n",
       "</div>"
      ],
      "text/plain": [
       "                           Missing Ratio\n",
       "loan_advances                  97.260274\n",
       "director_fees                  88.356164\n",
       "restricted_stock_deferred      87.671233\n",
       "deferral_payments              73.287671\n",
       "deferred_income                66.438356\n",
       "long_term_incentive            54.794521\n",
       "bonus                          43.835616\n",
       "from_messages                  41.095890\n",
       "from_poi_to_this_person        41.095890\n",
       "from_this_person_to_poi        41.095890"
      ]
     },
     "metadata": {},
     "output_type": "display_data"
    }
   ],
   "source": [
    "def na_check(df_data):\n",
    "    data_na = (df_data.isnull().sum() / len(df_data)) * 100\n",
    "    data_na = data_na.drop(data_na[data_na == 0].index).sort_values(ascending=False)\n",
    "    missing_data = pd.DataFrame({'Missing Ratio' :data_na})\n",
    "    display(missing_data.head(10))\n",
    "na_check(all_data)"
   ]
  },
  {
   "cell_type": "code",
   "execution_count": 11,
   "metadata": {},
   "outputs": [],
   "source": [
    "all_data['have_mail'] = all_data['email_address'].fillna(0).map(lambda x:0 if x==0 else 1)"
   ]
  },
  {
   "cell_type": "code",
   "execution_count": 12,
   "metadata": {},
   "outputs": [
    {
     "data": {
      "text/plain": [
       "0               ken.rice@enron.com\n",
       "1          jeff.skilling@enron.com\n",
       "2             rex.shelby@enron.com\n",
       "3         michael.kopper@enron.com\n",
       "4     christopher.calger@enron.com\n",
       "                  ...             \n",
       "28         philippe.bibi@enron.com\n",
       "29         john.sherriff@enron.com\n",
       "30            dana.gibbs@enron.com\n",
       "31          tod.lindholm@enron.com\n",
       "32       jeffrey.mcmahon@enron.com\n",
       "Name: email_address, Length: 146, dtype: object"
      ]
     },
     "execution_count": 12,
     "metadata": {},
     "output_type": "execute_result"
    }
   ],
   "source": [
    "#all_data['email_address'] = pd.DataFrame(LabelEncoder().fit_transform(all_data['email_address'].fillna('NAN')))\n",
    "all_data.pop('email_address')"
   ]
  },
  {
   "cell_type": "code",
   "execution_count": 10,
   "metadata": {},
   "outputs": [],
   "source": [
    "#MAIL特徵 ['to_messages', 'email_address', 'from_poi_to_this_person', 'from_messages', 'from_this_person_to_poi', 'shared_receipt_with_poi']\n",
    "#for c in ['to_messages', 'from_poi_to_this_person', 'from_messages', 'from_this_person_to_poi', 'shared_receipt_with_poi']:\n",
    "#    all_data[c] = all_data[c].fillna(0)"
   ]
  },
  {
   "cell_type": "code",
   "execution_count": 11,
   "metadata": {},
   "outputs": [],
   "source": [
    "#all_data.pop('total_payments')\n",
    "#all_data.pop('total_stock_value')"
   ]
  },
  {
   "cell_type": "code",
   "execution_count": 13,
   "metadata": {},
   "outputs": [
    {
     "data": {
      "text/html": [
       "<div>\n",
       "<style scoped>\n",
       "    .dataframe tbody tr th:only-of-type {\n",
       "        vertical-align: middle;\n",
       "    }\n",
       "\n",
       "    .dataframe tbody tr th {\n",
       "        vertical-align: top;\n",
       "    }\n",
       "\n",
       "    .dataframe thead th {\n",
       "        text-align: right;\n",
       "    }\n",
       "</style>\n",
       "<table border=\"1\" class=\"dataframe\">\n",
       "  <thead>\n",
       "    <tr style=\"text-align: right;\">\n",
       "      <th></th>\n",
       "      <th>Missing Ratio</th>\n",
       "    </tr>\n",
       "  </thead>\n",
       "  <tbody>\n",
       "    <tr>\n",
       "      <th>to_messages</th>\n",
       "      <td>41.095890</td>\n",
       "    </tr>\n",
       "    <tr>\n",
       "      <th>shared_receipt_with_poi</th>\n",
       "      <td>41.095890</td>\n",
       "    </tr>\n",
       "    <tr>\n",
       "      <th>from_this_person_to_poi</th>\n",
       "      <td>41.095890</td>\n",
       "    </tr>\n",
       "    <tr>\n",
       "      <th>from_poi_to_this_person</th>\n",
       "      <td>41.095890</td>\n",
       "    </tr>\n",
       "    <tr>\n",
       "      <th>from_messages</th>\n",
       "      <td>41.095890</td>\n",
       "    </tr>\n",
       "    <tr>\n",
       "      <th>other</th>\n",
       "      <td>36.301370</td>\n",
       "    </tr>\n",
       "    <tr>\n",
       "      <th>salary</th>\n",
       "      <td>34.931507</td>\n",
       "    </tr>\n",
       "    <tr>\n",
       "      <th>expenses</th>\n",
       "      <td>34.931507</td>\n",
       "    </tr>\n",
       "    <tr>\n",
       "      <th>exercised_stock_options</th>\n",
       "      <td>30.136986</td>\n",
       "    </tr>\n",
       "    <tr>\n",
       "      <th>restricted_stock</th>\n",
       "      <td>24.657534</td>\n",
       "    </tr>\n",
       "  </tbody>\n",
       "</table>\n",
       "</div>"
      ],
      "text/plain": [
       "                         Missing Ratio\n",
       "to_messages                  41.095890\n",
       "shared_receipt_with_poi      41.095890\n",
       "from_this_person_to_poi      41.095890\n",
       "from_poi_to_this_person      41.095890\n",
       "from_messages                41.095890\n",
       "other                        36.301370\n",
       "salary                       34.931507\n",
       "expenses                     34.931507\n",
       "exercised_stock_options      30.136986\n",
       "restricted_stock             24.657534"
      ]
     },
     "metadata": {},
     "output_type": "display_data"
    }
   ],
   "source": [
    "for c in ['loan_advances','director_fees','restricted_stock_deferred','deferral_payments','deferred_income','long_term_incentive','bonus']:\n",
    "    all_data[c] = all_data[c].fillna(0)\n",
    "    all_data[c] = np.log1p(all_data[c]).fillna(0)\n",
    "na_check(all_data)"
   ]
  },
  {
   "cell_type": "code",
   "execution_count": 14,
   "metadata": {},
   "outputs": [
    {
     "data": {
      "text/html": [
       "<div>\n",
       "<style scoped>\n",
       "    .dataframe tbody tr th:only-of-type {\n",
       "        vertical-align: middle;\n",
       "    }\n",
       "\n",
       "    .dataframe tbody tr th {\n",
       "        vertical-align: top;\n",
       "    }\n",
       "\n",
       "    .dataframe thead th {\n",
       "        text-align: right;\n",
       "    }\n",
       "</style>\n",
       "<table border=\"1\" class=\"dataframe\">\n",
       "  <thead>\n",
       "    <tr style=\"text-align: right;\">\n",
       "      <th></th>\n",
       "      <th>Missing Ratio</th>\n",
       "    </tr>\n",
       "  </thead>\n",
       "  <tbody>\n",
       "  </tbody>\n",
       "</table>\n",
       "</div>"
      ],
      "text/plain": [
       "Empty DataFrame\n",
       "Columns: [Missing Ratio]\n",
       "Index: []"
      ]
     },
     "metadata": {},
     "output_type": "display_data"
    }
   ],
   "source": [
    "for c in ['to_messages','shared_receipt_with_poi','from_this_person_to_poi','from_poi_to_this_person','from_messages','other','salary','expenses','exercised_stock_options','restricted_stock','total_payments','total_stock_value']:\n",
    "    all_data[c] = all_data[c].fillna(0)\n",
    "    all_data[c] = np.log1p(all_data[c]).fillna(0)\n",
    "na_check(all_data)"
   ]
  },
  {
   "cell_type": "code",
   "execution_count": 25,
   "metadata": {},
   "outputs": [],
   "source": [
    "# import seaborn as sns\n",
    "# import matplotlib.pyplot as plt\n",
    "# corr = all_data.corr()\n",
    "# sns.heatmap(corr)\n",
    "# plt.show()"
   ]
  },
  {
   "cell_type": "code",
   "execution_count": 26,
   "metadata": {},
   "outputs": [],
   "source": [
    "# corr"
   ]
  },
  {
   "cell_type": "code",
   "execution_count": 27,
   "metadata": {},
   "outputs": [],
   "source": [
    "# high_list = list(corr[(corr['poi']>0.25) | (corr['poi']<-0.25)].index)\n",
    "# high_list.pop(5)\n",
    "# print(high_list)"
   ]
  },
  {
   "cell_type": "code",
   "execution_count": 15,
   "metadata": {},
   "outputs": [],
   "source": [
    "MMEncoder = MinMaxScaler()\n",
    "train_X = MMEncoder.fit_transform(all_data)\n",
    "# estimator = GradientBoostingClassifier()\n",
    "# cross_val_score(estimator, train_X, train_Y, cv=5).mean()"
   ]
  },
  {
   "cell_type": "code",
   "execution_count": null,
   "metadata": {},
   "outputs": [],
   "source": []
  },
  {
   "cell_type": "code",
   "execution_count": null,
   "metadata": {},
   "outputs": [],
   "source": []
  },
  {
   "cell_type": "code",
   "execution_count": null,
   "metadata": {},
   "outputs": [],
   "source": []
  },
  {
   "cell_type": "code",
   "execution_count": 18,
   "metadata": {},
   "outputs": [],
   "source": [
    "#財務特徵  ['salary', 'deferral_payments', 'total_payments', 'loan_advances', 'bonus', 'restricted_stock_deferred', 'deferred_income', 'total_stock_value', 'expenses', 'exercised_stock_options', 'other', 'long_term_incentive', 'restricted_stock', 'director_fees']\n"
   ]
  },
  {
   "cell_type": "code",
   "execution_count": 14,
   "metadata": {},
   "outputs": [],
   "source": [
    "#all_data['bonus'] = all_data['bonus'].fillna(0)\n",
    "\n",
    "# for c in ['total_payments', 'salary', 'deferral_payments', 'loan_advances', 'deferred_income',  'expenses', 'other', 'long_term_incentive', 'director_fees']:\n",
    "#     all_data[c] = all_data[c].fillna(all_data[c].median())\n",
    "#na_check(all_data)"
   ]
  },
  {
   "cell_type": "code",
   "execution_count": 15,
   "metadata": {},
   "outputs": [],
   "source": [
    "#for c in ['total_stock_value','restricted_stock_deferred','exercised_stock_options','restricted_stock']:\n",
    "#    all_data[c] = all_data[c].fillna(0)\n",
    "#na_check(all_data)"
   ]
  },
  {
   "cell_type": "code",
   "execution_count": 20,
   "metadata": {},
   "outputs": [],
   "source": []
  },
  {
   "cell_type": "code",
   "execution_count": null,
   "metadata": {},
   "outputs": [],
   "source": []
  },
  {
   "cell_type": "code",
   "execution_count": null,
   "metadata": {},
   "outputs": [],
   "source": []
  },
  {
   "cell_type": "code",
   "execution_count": null,
   "metadata": {},
   "outputs": [],
   "source": []
  },
  {
   "cell_type": "code",
   "execution_count": 12,
   "metadata": {},
   "outputs": [],
   "source": [
    "# MMEncoder = MinMaxScaler()\n",
    "# for col in all_data.columns:\n",
    "#     all_data[col] = MMEncoder.fit_transform(all_data[col].values.reshape(-1,1))\n"
   ]
  },
  {
   "cell_type": "code",
   "execution_count": 16,
   "metadata": {},
   "outputs": [
    {
     "data": {
      "text/html": [
       "<div>\n",
       "<style scoped>\n",
       "    .dataframe tbody tr th:only-of-type {\n",
       "        vertical-align: middle;\n",
       "    }\n",
       "\n",
       "    .dataframe tbody tr th {\n",
       "        vertical-align: top;\n",
       "    }\n",
       "\n",
       "    .dataframe thead th {\n",
       "        text-align: right;\n",
       "    }\n",
       "</style>\n",
       "<table border=\"1\" class=\"dataframe\">\n",
       "  <thead>\n",
       "    <tr style=\"text-align: right;\">\n",
       "      <th></th>\n",
       "      <th>bonus</th>\n",
       "      <th>deferral_payments</th>\n",
       "      <th>deferred_income</th>\n",
       "      <th>director_fees</th>\n",
       "      <th>exercised_stock_options</th>\n",
       "      <th>expenses</th>\n",
       "      <th>from_messages</th>\n",
       "      <th>from_poi_to_this_person</th>\n",
       "      <th>from_this_person_to_poi</th>\n",
       "      <th>loan_advances</th>\n",
       "      <th>long_term_incentive</th>\n",
       "      <th>other</th>\n",
       "      <th>restricted_stock</th>\n",
       "      <th>restricted_stock_deferred</th>\n",
       "      <th>salary</th>\n",
       "      <th>shared_receipt_with_poi</th>\n",
       "      <th>to_messages</th>\n",
       "      <th>total_payments</th>\n",
       "      <th>total_stock_value</th>\n",
       "      <th>have_mail</th>\n",
       "    </tr>\n",
       "  </thead>\n",
       "  <tbody>\n",
       "    <tr>\n",
       "      <th>count</th>\n",
       "      <td>146.000000</td>\n",
       "      <td>146.000000</td>\n",
       "      <td>146.0</td>\n",
       "      <td>146.000000</td>\n",
       "      <td>146.000000</td>\n",
       "      <td>146.000000</td>\n",
       "      <td>146.000000</td>\n",
       "      <td>146.000000</td>\n",
       "      <td>146.000000</td>\n",
       "      <td>146.000000</td>\n",
       "      <td>146.000000</td>\n",
       "      <td>146.000000</td>\n",
       "      <td>146.000000</td>\n",
       "      <td>146.000000</td>\n",
       "      <td>146.000000</td>\n",
       "      <td>146.000000</td>\n",
       "      <td>146.000000</td>\n",
       "      <td>146.000000</td>\n",
       "      <td>146.000000</td>\n",
       "      <td>146.000000</td>\n",
       "    </tr>\n",
       "    <tr>\n",
       "      <th>mean</th>\n",
       "      <td>7.648413</td>\n",
       "      <td>3.308122</td>\n",
       "      <td>0.0</td>\n",
       "      <td>1.318645</td>\n",
       "      <td>9.729579</td>\n",
       "      <td>6.789197</td>\n",
       "      <td>2.597995</td>\n",
       "      <td>1.906663</td>\n",
       "      <td>1.297594</td>\n",
       "      <td>0.437464</td>\n",
       "      <td>5.933559</td>\n",
       "      <td>6.395560</td>\n",
       "      <td>9.892364</td>\n",
       "      <td>0.186627</td>\n",
       "      <td>8.070261</td>\n",
       "      <td>3.702992</td>\n",
       "      <td>4.134479</td>\n",
       "      <td>11.599808</td>\n",
       "      <td>12.058717</td>\n",
       "      <td>0.760274</td>\n",
       "    </tr>\n",
       "    <tr>\n",
       "      <th>std</th>\n",
       "      <td>6.825948</td>\n",
       "      <td>5.672042</td>\n",
       "      <td>0.0</td>\n",
       "      <td>3.666848</td>\n",
       "      <td>6.565177</td>\n",
       "      <td>5.121815</td>\n",
       "      <td>2.560611</td>\n",
       "      <td>2.048469</td>\n",
       "      <td>1.722164</td>\n",
       "      <td>2.644036</td>\n",
       "      <td>6.597591</td>\n",
       "      <td>5.518466</td>\n",
       "      <td>5.886797</td>\n",
       "      <td>1.625863</td>\n",
       "      <td>5.988279</td>\n",
       "      <td>3.346903</td>\n",
       "      <td>3.584626</td>\n",
       "      <td>5.126997</td>\n",
       "      <td>5.152227</td>\n",
       "      <td>0.428386</td>\n",
       "    </tr>\n",
       "    <tr>\n",
       "      <th>min</th>\n",
       "      <td>0.000000</td>\n",
       "      <td>0.000000</td>\n",
       "      <td>0.0</td>\n",
       "      <td>0.000000</td>\n",
       "      <td>0.000000</td>\n",
       "      <td>0.000000</td>\n",
       "      <td>0.000000</td>\n",
       "      <td>0.000000</td>\n",
       "      <td>0.000000</td>\n",
       "      <td>0.000000</td>\n",
       "      <td>0.000000</td>\n",
       "      <td>0.000000</td>\n",
       "      <td>0.000000</td>\n",
       "      <td>0.000000</td>\n",
       "      <td>0.000000</td>\n",
       "      <td>0.000000</td>\n",
       "      <td>0.000000</td>\n",
       "      <td>0.000000</td>\n",
       "      <td>0.000000</td>\n",
       "      <td>0.000000</td>\n",
       "    </tr>\n",
       "    <tr>\n",
       "      <th>25%</th>\n",
       "      <td>0.000000</td>\n",
       "      <td>0.000000</td>\n",
       "      <td>0.0</td>\n",
       "      <td>0.000000</td>\n",
       "      <td>0.000000</td>\n",
       "      <td>0.000000</td>\n",
       "      <td>0.000000</td>\n",
       "      <td>0.000000</td>\n",
       "      <td>0.000000</td>\n",
       "      <td>0.000000</td>\n",
       "      <td>0.000000</td>\n",
       "      <td>0.000000</td>\n",
       "      <td>2.596949</td>\n",
       "      <td>0.000000</td>\n",
       "      <td>0.000000</td>\n",
       "      <td>0.000000</td>\n",
       "      <td>0.000000</td>\n",
       "      <td>11.449142</td>\n",
       "      <td>12.339272</td>\n",
       "      <td>1.000000</td>\n",
       "    </tr>\n",
       "    <tr>\n",
       "      <th>50%</th>\n",
       "      <td>12.611541</td>\n",
       "      <td>0.000000</td>\n",
       "      <td>0.0</td>\n",
       "      <td>0.000000</td>\n",
       "      <td>13.318414</td>\n",
       "      <td>9.910361</td>\n",
       "      <td>2.861793</td>\n",
       "      <td>1.151293</td>\n",
       "      <td>0.000000</td>\n",
       "      <td>0.000000</td>\n",
       "      <td>0.000000</td>\n",
       "      <td>6.867369</td>\n",
       "      <td>12.795328</td>\n",
       "      <td>0.000000</td>\n",
       "      <td>12.257702</td>\n",
       "      <td>4.633360</td>\n",
       "      <td>5.666726</td>\n",
       "      <td>13.754724</td>\n",
       "      <td>13.780819</td>\n",
       "      <td>1.000000</td>\n",
       "    </tr>\n",
       "    <tr>\n",
       "      <th>75%</th>\n",
       "      <td>13.592368</td>\n",
       "      <td>9.172615</td>\n",
       "      <td>0.0</td>\n",
       "      <td>0.000000</td>\n",
       "      <td>14.354348</td>\n",
       "      <td>10.891923</td>\n",
       "      <td>3.955725</td>\n",
       "      <td>3.731645</td>\n",
       "      <td>2.690802</td>\n",
       "      <td>0.000000</td>\n",
       "      <td>12.834856</td>\n",
       "      <td>11.922432</td>\n",
       "      <td>13.606767</td>\n",
       "      <td>0.000000</td>\n",
       "      <td>12.509319</td>\n",
       "      <td>6.796185</td>\n",
       "      <td>7.369169</td>\n",
       "      <td>14.492625</td>\n",
       "      <td>14.657031</td>\n",
       "      <td>1.000000</td>\n",
       "    </tr>\n",
       "    <tr>\n",
       "      <th>max</th>\n",
       "      <td>18.393758</td>\n",
       "      <td>17.283849</td>\n",
       "      <td>0.0</td>\n",
       "      <td>14.150924</td>\n",
       "      <td>19.557757</td>\n",
       "      <td>15.470915</td>\n",
       "      <td>9.572828</td>\n",
       "      <td>6.270988</td>\n",
       "      <td>6.413459</td>\n",
       "      <td>18.245434</td>\n",
       "      <td>17.697526</td>\n",
       "      <td>17.568950</td>\n",
       "      <td>18.685521</td>\n",
       "      <td>16.553527</td>\n",
       "      <td>17.100333</td>\n",
       "      <td>8.616495</td>\n",
       "      <td>9.625756</td>\n",
       "      <td>19.551717</td>\n",
       "      <td>19.889728</td>\n",
       "      <td>1.000000</td>\n",
       "    </tr>\n",
       "  </tbody>\n",
       "</table>\n",
       "</div>"
      ],
      "text/plain": [
       "            bonus  deferral_payments  deferred_income  director_fees  \\\n",
       "count  146.000000         146.000000            146.0     146.000000   \n",
       "mean     7.648413           3.308122              0.0       1.318645   \n",
       "std      6.825948           5.672042              0.0       3.666848   \n",
       "min      0.000000           0.000000              0.0       0.000000   \n",
       "25%      0.000000           0.000000              0.0       0.000000   \n",
       "50%     12.611541           0.000000              0.0       0.000000   \n",
       "75%     13.592368           9.172615              0.0       0.000000   \n",
       "max     18.393758          17.283849              0.0      14.150924   \n",
       "\n",
       "       exercised_stock_options    expenses  from_messages  \\\n",
       "count               146.000000  146.000000     146.000000   \n",
       "mean                  9.729579    6.789197       2.597995   \n",
       "std                   6.565177    5.121815       2.560611   \n",
       "min                   0.000000    0.000000       0.000000   \n",
       "25%                   0.000000    0.000000       0.000000   \n",
       "50%                  13.318414    9.910361       2.861793   \n",
       "75%                  14.354348   10.891923       3.955725   \n",
       "max                  19.557757   15.470915       9.572828   \n",
       "\n",
       "       from_poi_to_this_person  from_this_person_to_poi  loan_advances  \\\n",
       "count               146.000000               146.000000     146.000000   \n",
       "mean                  1.906663                 1.297594       0.437464   \n",
       "std                   2.048469                 1.722164       2.644036   \n",
       "min                   0.000000                 0.000000       0.000000   \n",
       "25%                   0.000000                 0.000000       0.000000   \n",
       "50%                   1.151293                 0.000000       0.000000   \n",
       "75%                   3.731645                 2.690802       0.000000   \n",
       "max                   6.270988                 6.413459      18.245434   \n",
       "\n",
       "       long_term_incentive       other  restricted_stock  \\\n",
       "count           146.000000  146.000000        146.000000   \n",
       "mean              5.933559    6.395560          9.892364   \n",
       "std               6.597591    5.518466          5.886797   \n",
       "min               0.000000    0.000000          0.000000   \n",
       "25%               0.000000    0.000000          2.596949   \n",
       "50%               0.000000    6.867369         12.795328   \n",
       "75%              12.834856   11.922432         13.606767   \n",
       "max              17.697526   17.568950         18.685521   \n",
       "\n",
       "       restricted_stock_deferred      salary  shared_receipt_with_poi  \\\n",
       "count                 146.000000  146.000000               146.000000   \n",
       "mean                    0.186627    8.070261                 3.702992   \n",
       "std                     1.625863    5.988279                 3.346903   \n",
       "min                     0.000000    0.000000                 0.000000   \n",
       "25%                     0.000000    0.000000                 0.000000   \n",
       "50%                     0.000000   12.257702                 4.633360   \n",
       "75%                     0.000000   12.509319                 6.796185   \n",
       "max                    16.553527   17.100333                 8.616495   \n",
       "\n",
       "       to_messages  total_payments  total_stock_value   have_mail  \n",
       "count   146.000000      146.000000         146.000000  146.000000  \n",
       "mean      4.134479       11.599808          12.058717    0.760274  \n",
       "std       3.584626        5.126997           5.152227    0.428386  \n",
       "min       0.000000        0.000000           0.000000    0.000000  \n",
       "25%       0.000000       11.449142          12.339272    1.000000  \n",
       "50%       5.666726       13.754724          13.780819    1.000000  \n",
       "75%       7.369169       14.492625          14.657031    1.000000  \n",
       "max       9.625756       19.551717          19.889728    1.000000  "
      ]
     },
     "execution_count": 16,
     "metadata": {},
     "output_type": "execute_result"
    }
   ],
   "source": [
    "all_data.describe()"
   ]
  },
  {
   "cell_type": "code",
   "execution_count": 21,
   "metadata": {},
   "outputs": [],
   "source": [
    "# ['salary', 'deferral_payments', 'loan_advances', 'bonus', 'deferred_income',  'expenses', 'other', 'long_term_incentive', 'director_fees']\n",
    "#all_data['total_payments']\n",
    "\n"
   ]
  },
  {
   "cell_type": "code",
   "execution_count": null,
   "metadata": {},
   "outputs": [],
   "source": []
  },
  {
   "cell_type": "code",
   "execution_count": null,
   "metadata": {},
   "outputs": [],
   "source": []
  },
  {
   "cell_type": "code",
   "execution_count": null,
   "metadata": {},
   "outputs": [],
   "source": []
  },
  {
   "cell_type": "code",
   "execution_count": 17,
   "metadata": {},
   "outputs": [
    {
     "data": {
      "text/plain": [
       "((113, 20), (33, 20), (113, 1))"
      ]
     },
     "execution_count": 17,
     "metadata": {},
     "output_type": "execute_result"
    }
   ],
   "source": [
    "all_data_train = all_data[:train_num]\n",
    "all_data_test = all_data[train_num:]\n",
    "all_data_train.shape, all_data_test.shape , train_Y.shape"
   ]
  },
  {
   "cell_type": "code",
   "execution_count": 18,
   "metadata": {},
   "outputs": [],
   "source": [
    "from sklearn.model_selection import train_test_split"
   ]
  },
  {
   "cell_type": "code",
   "execution_count": 19,
   "metadata": {},
   "outputs": [],
   "source": [
    "X_train, X_test, Y_train, Y_test = train_test_split(all_data_train, train_Y, test_size=0.2, random_state=22)"
   ]
  },
  {
   "cell_type": "code",
   "execution_count": 46,
   "metadata": {},
   "outputs": [
    {
     "name": "stdout",
     "output_type": "stream",
     "text": [
      "AUC: 0.8833333333333333\n"
     ]
    }
   ],
   "source": [
    "#LogisticRegression\n",
    "lr = LogisticRegression(tol=0.0001, penalty='l2', fit_intercept=True, C=1.0)\n",
    "lr.fit(X_train, Y_train)\n",
    "lr_pred = lr.predict(X_test)\n",
    "lr_pred_proba = lr.predict_proba(X_test)\n",
    "\n",
    "from sklearn import metrics\n",
    "fpr, tpr, thresholds = metrics.roc_curve(Y_test, lr_pred_proba[:,1]) \n",
    "print('AUC:',metrics.auc(fpr, tpr)) "
   ]
  },
  {
   "cell_type": "code",
   "execution_count": 47,
   "metadata": {},
   "outputs": [
    {
     "name": "stdout",
     "output_type": "stream",
     "text": [
      "AUC: 0.75\n"
     ]
    }
   ],
   "source": [
    "#RandomForest\n",
    "rfc = RandomForestClassifier(n_estimators=200, min_samples_split=2, min_samples_leaf=4,max_features='sqrt', max_depth=3, bootstrap=True)\n",
    "rfc.fit(X_train, Y_train)\n",
    "rfc_pred = rfc.predict(X_test)\n",
    "rfc_pred_proba = rfc.predict_proba(X_test)\n",
    "\n",
    "fpr, tpr, thresholds = metrics.roc_curve(Y_test, rfc_pred_proba[:,1]) \n",
    "print('AUC:',metrics.auc(fpr, tpr)) "
   ]
  },
  {
   "cell_type": "code",
   "execution_count": 48,
   "metadata": {},
   "outputs": [
    {
     "name": "stdout",
     "output_type": "stream",
     "text": [
      "AUC: 0.8333333333333333\n"
     ]
    }
   ],
   "source": [
    "#GradientBoosting\n",
    "gdbc = GradientBoostingClassifier(tol=[100], subsample=0.8, n_estimators=100, max_features=0.1,max_depth=5, learning_rate=0.03)\n",
    "gdbc.fit(X_train, Y_train)\n",
    "gdbc_pred = gdbc.predict(X_test)\n",
    "gdbc_pred_proba = gdbc.predict_proba(X_test)\n",
    "\n",
    "fpr, tpr, thresholds = metrics.roc_curve(Y_test, gdbc_pred_proba[:,1]) \n",
    "print('AUC:',metrics.auc(fpr, tpr)) "
   ]
  },
  {
   "cell_type": "code",
   "execution_count": 49,
   "metadata": {},
   "outputs": [
    {
     "name": "stdout",
     "output_type": "stream",
     "text": [
      "AUC: 0.8333333333333333\n"
     ]
    }
   ],
   "source": [
    "blending_pred = lr_pred_proba[:,1]*0.05 + rfc_pred_proba[:,1]*0.2 + gdbc_pred_proba[:,1]*0.75\n",
    "fpr, tpr, thresholds = metrics.roc_curve(Y_test, blending_pred) \n",
    "print('AUC:',metrics.auc(fpr, tpr)) "
   ]
  },
  {
   "cell_type": "code",
   "execution_count": null,
   "metadata": {},
   "outputs": [],
   "source": [
    "# lr = LogisticRegression(tol=0.001, penalty='l2', fit_intercept=True, C=1.0)\n",
    "# gdbt = GradientBoostingClassifier(tol=100, subsample=0.75, n_estimators=250, max_features=20,\n",
    "#                                   max_depth=6, learning_rate=0.03)\n",
    "# rf = RandomForestClassifier(n_estimators=100, min_samples_split=2, min_samples_leaf=1, \n",
    "#                             max_features='sqrt', max_depth=6, bootstrap=True)"
   ]
  },
  {
   "cell_type": "code",
   "execution_count": null,
   "metadata": {},
   "outputs": [],
   "source": []
  },
  {
   "cell_type": "code",
   "execution_count": 50,
   "metadata": {},
   "outputs": [
    {
     "name": "stdout",
     "output_type": "stream",
     "text": [
      "AUC: 0.8083333333333332\n"
     ]
    }
   ],
   "source": [
    "from mlxtend.classifier import StackingClassifier\n",
    "meta_estimator = GradientBoostingClassifier(tol=[100], subsample=0.8, n_estimators=100, max_features=0.1,max_depth=5, learning_rate=0.03)\n",
    "stacking = StackingClassifier(classifiers=[lr, gdbc, rfc], meta_classifier=meta_estimator)\n",
    "stacking.fit(X_train, Y_train)\n",
    "stacking_pred = stacking.predict_proba(X_test)\n",
    "\n",
    "fpr, tpr, thresholds = metrics.roc_curve(Y_test, stacking_pred[:,1]) \n",
    "print('AUC:',metrics.auc(fpr, tpr)) "
   ]
  },
  {
   "cell_type": "code",
   "execution_count": null,
   "metadata": {},
   "outputs": [],
   "source": []
  },
  {
   "cell_type": "code",
   "execution_count": null,
   "metadata": {},
   "outputs": [],
   "source": []
  },
  {
   "cell_type": "code",
   "execution_count": 35,
   "metadata": {},
   "outputs": [
    {
     "name": "stdout",
     "output_type": "stream",
     "text": [
      "Fitting 5 folds for each of 36 candidates, totalling 180 fits\n"
     ]
    },
    {
     "name": "stderr",
     "output_type": "stream",
     "text": [
      "[Parallel(n_jobs=-1)]: Using backend LokyBackend with 16 concurrent workers.\n",
      "[Parallel(n_jobs=-1)]: Done  18 tasks      | elapsed:    1.2s\n",
      "[Parallel(n_jobs=-1)]: Done 149 out of 180 | elapsed:    1.4s remaining:    0.2s\n",
      "[Parallel(n_jobs=-1)]: Done 180 out of 180 | elapsed:    1.5s finished\n",
      "[Parallel(n_jobs=-1)]: Using backend LokyBackend with 16 concurrent workers.\n"
     ]
    },
    {
     "name": "stdout",
     "output_type": "stream",
     "text": [
      "Best logistic Accuracy: 0.887500 using {'C': 1.0, 'fit_intercept': True, 'penalty': 'l2', 'tol': 0.0001}\n",
      "Fitting 5 folds for each of 200 candidates, totalling 1000 fits\n"
     ]
    },
    {
     "name": "stderr",
     "output_type": "stream",
     "text": [
      "[Parallel(n_jobs=-1)]: Done  18 tasks      | elapsed:    0.5s\n",
      "[Parallel(n_jobs=-1)]: Done 168 tasks      | elapsed:    3.4s\n",
      "[Parallel(n_jobs=-1)]: Done 418 tasks      | elapsed:    8.3s\n",
      "[Parallel(n_jobs=-1)]: Done 768 tasks      | elapsed:   13.9s\n",
      "[Parallel(n_jobs=-1)]: Done 1000 out of 1000 | elapsed:   17.3s finished\n"
     ]
    },
    {
     "name": "stdout",
     "output_type": "stream",
     "text": [
      "Best RF Accuracy: 0.831250 using {'bootstrap': True, 'max_depth': 3, 'max_features': 'sqrt', 'min_samples_leaf': 4, 'min_samples_split': 2, 'n_estimators': 200}\n",
      "Fitting 5 folds for each of 240 candidates, totalling 1200 fits\n"
     ]
    },
    {
     "name": "stderr",
     "output_type": "stream",
     "text": [
      "[Parallel(n_jobs=-1)]: Using backend LokyBackend with 16 concurrent workers.\n",
      "[Parallel(n_jobs=-1)]: Done  18 tasks      | elapsed:    0.1s\n",
      "[Parallel(n_jobs=-1)]: Done 304 tasks      | elapsed:    2.7s\n",
      "[Parallel(n_jobs=-1)]: Done 804 tasks      | elapsed:    8.2s\n"
     ]
    },
    {
     "name": "stdout",
     "output_type": "stream",
     "text": [
      "Best GDBC Accuracy: 0.806250 using {'learning_rate': 0.03, 'max_depth': 5, 'max_features': 0.1, 'n_estimators': 100, 'subsample': 0.8, 'tol': 100}\n"
     ]
    },
    {
     "name": "stderr",
     "output_type": "stream",
     "text": [
      "[Parallel(n_jobs=-1)]: Done 1200 out of 1200 | elapsed:   12.7s finished\n"
     ]
    }
   ],
   "source": [
    "#調參數\n",
    "from sklearn.model_selection import KFold, GridSearchCV\n",
    "\n",
    "#logistic\n",
    "param_grid = dict(tol=[0.0001, 0.0005, 0.001], penalty=['l1','l2'], fit_intercept=[True, False], C=[0.5, 1.0, 1.5])\n",
    "grid_search = GridSearchCV(lr, param_grid, scoring=\"roc_auc\", n_jobs=-1, verbose=1)\n",
    "grid_result = grid_search.fit(X_train, Y_train)\n",
    "print(\"Best logistic Accuracy: %f using %s\" % (grid_result.best_score_, grid_result.best_params_))\n",
    "\n",
    "#RF\n",
    "param_grid = dict(n_estimators=[100,150,200,250,300], min_samples_split=[2], min_samples_leaf=[1,2,4,8,16],max_features=['sqrt'], max_depth=[3,4,5,6], bootstrap=[True,False])\n",
    "grid_search = GridSearchCV(rfc, param_grid, scoring=\"roc_auc\", n_jobs=-1, verbose=1)\n",
    "grid_result = grid_search.fit(X_train, Y_train)\n",
    "print(\"Best RF Accuracy: %f using %s\" % (grid_result.best_score_, grid_result.best_params_))\n",
    "\n",
    "\n",
    "#GDBC\n",
    "param_grid = dict(tol=[100], subsample=[0.7,0.75,0.8], n_estimators=[100,150,200,250,300], max_features=[0.1,0.2],max_depth=[3,4,5,6], learning_rate=[0.02,0.03])\n",
    "grid_search = GridSearchCV(gdbc, param_grid, scoring=\"roc_auc\", n_jobs=-1, verbose=1)\n",
    "grid_result = grid_search.fit(X_train, Y_train)\n",
    "print(\"Best GDBC Accuracy: %f using %s\" % (grid_result.best_score_, grid_result.best_params_))"
   ]
  },
  {
   "cell_type": "code",
   "execution_count": null,
   "metadata": {},
   "outputs": [],
   "source": []
  },
  {
   "cell_type": "code",
   "execution_count": 51,
   "metadata": {},
   "outputs": [],
   "source": [
    "#LogisticRegression\n",
    "# lr_pred = lr.predict(all_data_test)\n",
    "lr_pred_proba = lr.predict_proba(all_data_test)\n",
    "sub = pd.DataFrame({'name': name, 'poi': lr_pred_proba[:,1]})\n",
    "sub.to_csv('Midterm_exam_lr.csv', index=False)"
   ]
  },
  {
   "cell_type": "code",
   "execution_count": 52,
   "metadata": {},
   "outputs": [],
   "source": [
    "#RandomForest\n",
    "# rfc_pred = rfc.predict(all_data_test)\n",
    "rfc_pred_proba = rfc.predict_proba(all_data_test)\n",
    "sub = pd.DataFrame({'name': name, 'poi': rfc_pred_proba[:,1]})\n",
    "sub.to_csv('Midterm_exam_rfc.csv', index=False)"
   ]
  },
  {
   "cell_type": "code",
   "execution_count": 53,
   "metadata": {},
   "outputs": [],
   "source": [
    "#GradientBoosting\n",
    "# gdbc_pred = gdbc.predict(all_data_test)\n",
    "gdbc_pred_proba = gdbc.predict_proba(all_data_test)\n",
    "sub = pd.DataFrame({'name': name, 'poi': gdbc_pred_proba[:,1]})\n",
    "sub.to_csv('Midterm_exam_gdbc.csv', index=False)"
   ]
  },
  {
   "cell_type": "code",
   "execution_count": 55,
   "metadata": {},
   "outputs": [],
   "source": [
    "#Stacking\n",
    "stacking_pred = stacking.predict_proba(all_data_test)\n",
    "sub = pd.DataFrame({'name': name, 'poi': stacking_pred[:,1]})\n",
    "sub.to_csv('Midterm_exam_stacking.csv', index=False)"
   ]
  },
  {
   "cell_type": "code",
   "execution_count": 56,
   "metadata": {},
   "outputs": [],
   "source": [
    "#Blending\n",
    "blending_pred = lr_pred_proba[:,1]*0.05 + rfc_pred_proba[:,1]*0.2 + gdbc_pred_proba[:,1]*0.75\n",
    "sub = pd.DataFrame({'name': name, 'poi': blending_pred})\n",
    "sub.to_csv('Midterm_exam_blending.csv', index=False)"
   ]
  },
  {
   "cell_type": "code",
   "execution_count": 23,
   "metadata": {},
   "outputs": [],
   "source": []
  },
  {
   "cell_type": "code",
   "execution_count": null,
   "metadata": {},
   "outputs": [],
   "source": []
  },
  {
   "cell_type": "code",
   "execution_count": null,
   "metadata": {},
   "outputs": [],
   "source": []
  },
  {
   "cell_type": "code",
   "execution_count": null,
   "metadata": {},
   "outputs": [],
   "source": []
  },
  {
   "cell_type": "code",
   "execution_count": null,
   "metadata": {},
   "outputs": [],
   "source": []
  },
  {
   "cell_type": "code",
   "execution_count": 43,
   "metadata": {},
   "outputs": [
    {
     "name": "stderr",
     "output_type": "stream",
     "text": [
      "[Parallel(n_jobs=-1)]: Using backend LokyBackend with 16 concurrent workers.\n"
     ]
    },
    {
     "name": "stdout",
     "output_type": "stream",
     "text": [
      "Fitting 5 folds for each of 25 candidates, totalling 125 fits\n"
     ]
    },
    {
     "name": "stderr",
     "output_type": "stream",
     "text": [
      "[Parallel(n_jobs=-1)]: Done  18 tasks      | elapsed:    0.4s\n",
      "[Parallel(n_jobs=-1)]: Done  94 out of 125 | elapsed:    2.0s remaining:    0.6s\n"
     ]
    },
    {
     "name": "stdout",
     "output_type": "stream",
     "text": [
      "Best Accuracy: 0.756250 using {'max_depth': 1, 'n_estimators': 200}\n"
     ]
    },
    {
     "name": "stderr",
     "output_type": "stream",
     "text": [
      "[Parallel(n_jobs=-1)]: Done 125 out of 125 | elapsed:    2.6s finished\n"
     ]
    }
   ],
   "source": [
    "# 設定要訓練的超參數組合\n",
    "n_estimators = [100, 150, 200, 250, 300]\n",
    "max_depth = [1, 2, 3, 4, 5]\n",
    "param_grid = dict(n_estimators=n_estimators, max_depth=max_depth)\n",
    "\n",
    "## 建立搜尋物件，放入模型及參數組合字典 (n_jobs=-1 會使用全部 cpu 平行運算)\n",
    "grid_search = GridSearchCV(rfc, param_grid, scoring=\"roc_auc\", n_jobs=-1, verbose=1)\n",
    "\n",
    "# 開始搜尋最佳參數\n",
    "grid_result = grid_search.fit(X_train, Y_train)\n",
    "\n",
    "print(\"Best Accuracy: %f using %s\" % (grid_result.best_score_, grid_result.best_params_))"
   ]
  },
  {
   "cell_type": "code",
   "execution_count": null,
   "metadata": {},
   "outputs": [],
   "source": []
  },
  {
   "cell_type": "code",
   "execution_count": 85,
   "metadata": {},
   "outputs": [],
   "source": [
    "#df_sample_submission['poi'].map(lambda x:1 if x>0.5 else  0)"
   ]
  },
  {
   "cell_type": "code",
   "execution_count": null,
   "metadata": {},
   "outputs": [],
   "source": []
  },
  {
   "cell_type": "code",
   "execution_count": null,
   "metadata": {},
   "outputs": [],
   "source": []
  }
 ],
 "metadata": {
  "kernelspec": {
   "display_name": "Python 3",
   "language": "python",
   "name": "python3"
  },
  "language_info": {
   "codemirror_mode": {
    "name": "ipython",
    "version": 3
   },
   "file_extension": ".py",
   "mimetype": "text/x-python",
   "name": "python",
   "nbconvert_exporter": "python",
   "pygments_lexer": "ipython3",
   "version": "3.7.6"
  }
 },
 "nbformat": 4,
 "nbformat_minor": 4
}
