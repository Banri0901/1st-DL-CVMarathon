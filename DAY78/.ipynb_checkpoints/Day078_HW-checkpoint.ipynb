{
 "cells": [
  {
   "cell_type": "markdown",
   "metadata": {},
   "source": [
    "## Work\n",
    "1. 請嘗試將 preproc_x 替換成以每筆資料的 min/max 進行標準化至 -1 ~ 1 間，再進行訓練\n",
    "2. 請嘗試將 mlp 疊更深 (e.g 5~10 層)，進行訓練後觀察 learning curve 的走勢\n",
    "3. (optional) 請改用 GPU 進行訓練 (如果你有 GPU 的話)，比較使用 CPU 與 GPU 的訓練速度"
   ]
  },
  {
   "cell_type": "code",
   "execution_count": 1,
   "metadata": {},
   "outputs": [],
   "source": [
    "## \n",
    "\"\"\"\n",
    "Your code here (optional)\n",
    "確認硬體資源\n",
    "\"\"\"\n"
   ]
  },
  {
   "cell_type": "code",
   "execution_count": 1,
   "metadata": {},
   "outputs": [],
   "source": [
    "import os\n",
    "import keras\n",
    "\n",
    "# 請嘗試設定 GPU：os.environ\n",
    "# os.environ[\"CUDA_DEVICE_ORDER\"] = \"PCI_BUS_ID\"\n",
    "os.environ[\"CUDA_VISIBLE_DEVICES\"] = \"0\""
   ]
  },
  {
   "cell_type": "code",
   "execution_count": 2,
   "metadata": {},
   "outputs": [],
   "source": [
    "train, test = keras.datasets.cifar10.load_data()"
   ]
  },
  {
   "cell_type": "code",
   "execution_count": 3,
   "metadata": {},
   "outputs": [],
   "source": [
    "## 資料前處理\n",
    "\"\"\"\n",
    "Your code here\n",
    "\"\"\"\n",
    "def preproc_x(x, flatten=True):\n",
    "    x = (x/255)*2-1\n",
    "    if flatten:\n",
    "        x = x.reshape((len(x), -1))\n",
    "    return x\n",
    "\n",
    "def preproc_y(y, num_classes=10):\n",
    "    if y.shape[-1] == 1:\n",
    "        y = keras.utils.to_categorical(y, num_classes)\n",
    "    return y   "
   ]
  },
  {
   "cell_type": "code",
   "execution_count": 4,
   "metadata": {},
   "outputs": [],
   "source": [
    "x_train, y_train = train\n",
    "x_test, y_test = test\n",
    "\n",
    "# Preproc the inputs\n",
    "x_train = preproc_x(x_train)\n",
    "x_test = preproc_x(x_test)\n",
    "\n",
    "# Preprc the outputs\n",
    "y_train = preproc_y(y_train)\n",
    "y_test = preproc_y(y_test)"
   ]
  },
  {
   "cell_type": "code",
   "execution_count": 5,
   "metadata": {},
   "outputs": [
    {
     "name": "stdout",
     "output_type": "stream",
     "text": [
      "Model: \"functional_1\"\n",
      "_________________________________________________________________\n",
      "Layer (type)                 Output Shape              Param #   \n",
      "=================================================================\n",
      "input_1 (InputLayer)         [(None, 3072)]            0         \n",
      "_________________________________________________________________\n",
      "hidden_layer1 (Dense)        (None, 512)               1573376   \n",
      "_________________________________________________________________\n",
      "hidden_layer2 (Dense)        (None, 256)               131328    \n",
      "_________________________________________________________________\n",
      "hidden_layer3 (Dense)        (None, 256)               65792     \n",
      "_________________________________________________________________\n",
      "hidden_layer4 (Dense)        (None, 256)               65792     \n",
      "_________________________________________________________________\n",
      "hidden_layer5 (Dense)        (None, 128)               32896     \n",
      "_________________________________________________________________\n",
      "output (Dense)               (None, 10)                1290      \n",
      "=================================================================\n",
      "Total params: 1,870,474\n",
      "Trainable params: 1,870,474\n",
      "Non-trainable params: 0\n",
      "_________________________________________________________________\n"
     ]
    }
   ],
   "source": [
    "\"\"\"Code Here\n",
    "建立你的神經網路\n",
    "\"\"\"\n",
    "def build_mlp(input_shape, output_units=10, num_neurons=[512, 256, 256, 256, 128]):\n",
    "    input_layer = keras.layers.Input(input_shape)\n",
    "    \n",
    "    for i, n_units in enumerate(num_neurons):\n",
    "        if i == 0:\n",
    "            x = keras.layers.Dense(units=n_units, activation=\"relu\", name=\"hidden_layer\"+str(i+1))(input_layer)\n",
    "        else:\n",
    "            x = keras.layers.Dense(units=n_units, activation=\"relu\", name=\"hidden_layer\"+str(i+1))(x)\n",
    "    \n",
    "    out = keras.layers.Dense(units=output_units, activation=\"softmax\", name=\"output\")(x)\n",
    "    \n",
    "    model = keras.models.Model(inputs=[input_layer], outputs=[out])\n",
    "    return model\n",
    "\n",
    "model = build_mlp(input_shape=x_train.shape[1:])\n",
    "model.summary()"
   ]
  },
  {
   "cell_type": "code",
   "execution_count": 6,
   "metadata": {},
   "outputs": [],
   "source": [
    "## 超參數設定\n",
    "LEARNING_RATE = 0.001\n",
    "EPOCHS = 100\n",
    "BATCH_SIZE = 256"
   ]
  },
  {
   "cell_type": "code",
   "execution_count": 7,
   "metadata": {},
   "outputs": [],
   "source": [
    "optimizer = keras.optimizers.Adam(lr=LEARNING_RATE)\n",
    "model.compile(loss=\"categorical_crossentropy\", metrics=[\"accuracy\"], optimizer=optimizer)"
   ]
  },
  {
   "cell_type": "code",
   "execution_count": 8,
   "metadata": {},
   "outputs": [
    {
     "name": "stdout",
     "output_type": "stream",
     "text": [
      "Epoch 1/100\n",
      "196/196 [==============================] - 3s 14ms/step - loss: 1.6780 - accuracy: 0.4032 - val_loss: 1.5462 - val_accuracy: 0.4495\n",
      "Epoch 2/100\n",
      "196/196 [==============================] - 3s 13ms/step - loss: 1.4499 - accuracy: 0.4885 - val_loss: 1.4561 - val_accuracy: 0.4811\n",
      "Epoch 3/100\n",
      "196/196 [==============================] - 3s 14ms/step - loss: 1.3320 - accuracy: 0.5299 - val_loss: 1.4092 - val_accuracy: 0.5011\n",
      "Epoch 4/100\n",
      "196/196 [==============================] - 3s 14ms/step - loss: 1.2450 - accuracy: 0.5607 - val_loss: 1.3562 - val_accuracy: 0.5250\n",
      "Epoch 5/100\n",
      "196/196 [==============================] - 3s 13ms/step - loss: 1.1491 - accuracy: 0.5949 - val_loss: 1.3664 - val_accuracy: 0.5285\n",
      "Epoch 6/100\n",
      "196/196 [==============================] - 3s 13ms/step - loss: 1.0719 - accuracy: 0.6200 - val_loss: 1.3540 - val_accuracy: 0.5400\n",
      "Epoch 7/100\n",
      "196/196 [==============================] - 3s 14ms/step - loss: 0.9912 - accuracy: 0.6463 - val_loss: 1.3911 - val_accuracy: 0.5342\n",
      "Epoch 8/100\n",
      "196/196 [==============================] - 3s 14ms/step - loss: 0.9189 - accuracy: 0.6748 - val_loss: 1.4051 - val_accuracy: 0.5352\n",
      "Epoch 9/100\n",
      "196/196 [==============================] - 3s 14ms/step - loss: 0.8442 - accuracy: 0.7007 - val_loss: 1.4393 - val_accuracy: 0.5412\n",
      "Epoch 10/100\n",
      "196/196 [==============================] - 3s 13ms/step - loss: 0.7702 - accuracy: 0.7251 - val_loss: 1.4873 - val_accuracy: 0.5395\n",
      "Epoch 11/100\n",
      "196/196 [==============================] - 3s 13ms/step - loss: 0.7088 - accuracy: 0.7485 - val_loss: 1.5807 - val_accuracy: 0.5356\n",
      "Epoch 12/100\n",
      "196/196 [==============================] - 3s 14ms/step - loss: 0.6419 - accuracy: 0.7722 - val_loss: 1.6078 - val_accuracy: 0.5338\n",
      "Epoch 13/100\n",
      "196/196 [==============================] - 3s 14ms/step - loss: 0.5886 - accuracy: 0.7910 - val_loss: 1.6881 - val_accuracy: 0.5346\n",
      "Epoch 14/100\n",
      "196/196 [==============================] - 3s 14ms/step - loss: 0.5210 - accuracy: 0.8158 - val_loss: 1.8629 - val_accuracy: 0.5313\n",
      "Epoch 15/100\n",
      "196/196 [==============================] - 3s 13ms/step - loss: 0.4860 - accuracy: 0.8267 - val_loss: 1.8830 - val_accuracy: 0.5374\n",
      "Epoch 16/100\n",
      "196/196 [==============================] - 3s 14ms/step - loss: 0.4461 - accuracy: 0.8418 - val_loss: 1.9757 - val_accuracy: 0.5357\n",
      "Epoch 17/100\n",
      "196/196 [==============================] - 3s 14ms/step - loss: 0.4048 - accuracy: 0.8559 - val_loss: 2.0863 - val_accuracy: 0.5371\n",
      "Epoch 18/100\n",
      "196/196 [==============================] - 3s 14ms/step - loss: 0.3756 - accuracy: 0.8670 - val_loss: 2.2008 - val_accuracy: 0.5308\n",
      "Epoch 19/100\n",
      "196/196 [==============================] - 3s 13ms/step - loss: 0.3310 - accuracy: 0.8819 - val_loss: 2.2508 - val_accuracy: 0.5375\n",
      "Epoch 20/100\n",
      "196/196 [==============================] - 3s 14ms/step - loss: 0.3162 - accuracy: 0.8887 - val_loss: 2.3941 - val_accuracy: 0.5290\n",
      "Epoch 21/100\n",
      "196/196 [==============================] - 3s 14ms/step - loss: 0.2964 - accuracy: 0.8960 - val_loss: 2.3994 - val_accuracy: 0.5311\n",
      "Epoch 22/100\n",
      "196/196 [==============================] - 3s 14ms/step - loss: 0.2680 - accuracy: 0.9070 - val_loss: 2.5897 - val_accuracy: 0.5247\n",
      "Epoch 23/100\n",
      "196/196 [==============================] - 3s 14ms/step - loss: 0.2469 - accuracy: 0.9144 - val_loss: 2.4951 - val_accuracy: 0.5299\n",
      "Epoch 24/100\n",
      "196/196 [==============================] - 3s 14ms/step - loss: 0.2474 - accuracy: 0.9138 - val_loss: 2.6391 - val_accuracy: 0.5280\n",
      "Epoch 25/100\n",
      "196/196 [==============================] - 3s 14ms/step - loss: 0.2374 - accuracy: 0.9175 - val_loss: 2.7400 - val_accuracy: 0.5356\n",
      "Epoch 26/100\n",
      "196/196 [==============================] - 3s 13ms/step - loss: 0.2153 - accuracy: 0.9245 - val_loss: 2.8965 - val_accuracy: 0.5261\n",
      "Epoch 27/100\n",
      "196/196 [==============================] - 3s 14ms/step - loss: 0.2061 - accuracy: 0.9301 - val_loss: 2.9472 - val_accuracy: 0.5331\n",
      "Epoch 28/100\n",
      "196/196 [==============================] - 3s 14ms/step - loss: 0.1950 - accuracy: 0.9314 - val_loss: 3.0719 - val_accuracy: 0.5360\n",
      "Epoch 29/100\n",
      "196/196 [==============================] - 3s 14ms/step - loss: 0.1924 - accuracy: 0.9337 - val_loss: 3.0151 - val_accuracy: 0.5351\n",
      "Epoch 30/100\n",
      "196/196 [==============================] - 3s 13ms/step - loss: 0.1880 - accuracy: 0.9349 - val_loss: 2.9939 - val_accuracy: 0.5306\n",
      "Epoch 31/100\n",
      "196/196 [==============================] - 3s 13ms/step - loss: 0.1734 - accuracy: 0.9402 - val_loss: 3.1703 - val_accuracy: 0.5187\n",
      "Epoch 32/100\n",
      "196/196 [==============================] - 3s 14ms/step - loss: 0.1740 - accuracy: 0.9401 - val_loss: 3.1268 - val_accuracy: 0.5232\n",
      "Epoch 33/100\n",
      "196/196 [==============================] - 3s 14ms/step - loss: 0.1647 - accuracy: 0.9441 - val_loss: 3.1901 - val_accuracy: 0.5197\n",
      "Epoch 34/100\n",
      "196/196 [==============================] - 3s 14ms/step - loss: 0.1537 - accuracy: 0.9466 - val_loss: 3.4335 - val_accuracy: 0.5331\n",
      "Epoch 35/100\n",
      "196/196 [==============================] - 3s 14ms/step - loss: 0.1751 - accuracy: 0.9420 - val_loss: 3.3355 - val_accuracy: 0.5275\n",
      "Epoch 36/100\n",
      "196/196 [==============================] - 3s 14ms/step - loss: 0.1393 - accuracy: 0.9531 - val_loss: 3.5532 - val_accuracy: 0.5384\n",
      "Epoch 37/100\n",
      "196/196 [==============================] - 3s 14ms/step - loss: 0.1355 - accuracy: 0.9539 - val_loss: 3.4816 - val_accuracy: 0.5335\n",
      "Epoch 38/100\n",
      "196/196 [==============================] - 3s 14ms/step - loss: 0.1466 - accuracy: 0.9512 - val_loss: 3.5641 - val_accuracy: 0.5367\n",
      "Epoch 39/100\n",
      "196/196 [==============================] - 3s 14ms/step - loss: 0.1402 - accuracy: 0.9526 - val_loss: 3.4391 - val_accuracy: 0.5323\n",
      "Epoch 40/100\n",
      "196/196 [==============================] - 3s 14ms/step - loss: 0.1261 - accuracy: 0.9579 - val_loss: 3.6631 - val_accuracy: 0.5299\n",
      "Epoch 41/100\n",
      "196/196 [==============================] - 3s 14ms/step - loss: 0.1506 - accuracy: 0.9516 - val_loss: 3.3984 - val_accuracy: 0.5307\n",
      "Epoch 42/100\n",
      "196/196 [==============================] - 3s 14ms/step - loss: 0.1276 - accuracy: 0.9573 - val_loss: 3.5700 - val_accuracy: 0.5318\n",
      "Epoch 43/100\n",
      "196/196 [==============================] - 3s 14ms/step - loss: 0.1311 - accuracy: 0.9571 - val_loss: 3.7089 - val_accuracy: 0.5261\n",
      "Epoch 44/100\n",
      "196/196 [==============================] - 3s 14ms/step - loss: 0.1424 - accuracy: 0.9521 - val_loss: 3.5901 - val_accuracy: 0.5296\n",
      "Epoch 45/100\n",
      "196/196 [==============================] - 3s 14ms/step - loss: 0.1051 - accuracy: 0.9654 - val_loss: 3.8359 - val_accuracy: 0.5281\n",
      "Epoch 46/100\n",
      "196/196 [==============================] - 3s 14ms/step - loss: 0.1192 - accuracy: 0.9603 - val_loss: 3.7582 - val_accuracy: 0.5323\n",
      "Epoch 47/100\n",
      "196/196 [==============================] - 3s 14ms/step - loss: 0.1236 - accuracy: 0.9596 - val_loss: 3.6987 - val_accuracy: 0.5384\n",
      "Epoch 48/100\n",
      "196/196 [==============================] - 3s 14ms/step - loss: 0.1127 - accuracy: 0.9634 - val_loss: 3.7508 - val_accuracy: 0.5311\n",
      "Epoch 49/100\n",
      "196/196 [==============================] - 3s 14ms/step - loss: 0.1196 - accuracy: 0.9610 - val_loss: 3.8058 - val_accuracy: 0.5323\n",
      "Epoch 50/100\n",
      "196/196 [==============================] - 3s 14ms/step - loss: 0.1226 - accuracy: 0.9601 - val_loss: 3.8693 - val_accuracy: 0.5317\n",
      "Epoch 51/100\n",
      "196/196 [==============================] - 3s 14ms/step - loss: 0.1156 - accuracy: 0.9612 - val_loss: 3.8345 - val_accuracy: 0.5357\n",
      "Epoch 52/100\n",
      "196/196 [==============================] - 3s 14ms/step - loss: 0.1108 - accuracy: 0.9635 - val_loss: 3.7731 - val_accuracy: 0.5285\n",
      "Epoch 53/100\n",
      "196/196 [==============================] - 3s 14ms/step - loss: 0.0925 - accuracy: 0.9699 - val_loss: 3.9222 - val_accuracy: 0.5387\n",
      "Epoch 54/100\n",
      "196/196 [==============================] - 3s 14ms/step - loss: 0.0946 - accuracy: 0.9693 - val_loss: 3.8724 - val_accuracy: 0.5361\n",
      "Epoch 55/100\n",
      "196/196 [==============================] - 3s 14ms/step - loss: 0.1179 - accuracy: 0.9615 - val_loss: 3.8109 - val_accuracy: 0.5211\n",
      "Epoch 56/100\n",
      "196/196 [==============================] - 3s 14ms/step - loss: 0.1140 - accuracy: 0.9623 - val_loss: 3.7768 - val_accuracy: 0.5278\n",
      "Epoch 57/100\n"
     ]
    },
    {
     "name": "stdout",
     "output_type": "stream",
     "text": [
      "196/196 [==============================] - 3s 13ms/step - loss: 0.0918 - accuracy: 0.9697 - val_loss: 3.7753 - val_accuracy: 0.5263\n",
      "Epoch 58/100\n",
      "196/196 [==============================] - 3s 14ms/step - loss: 0.1002 - accuracy: 0.9670 - val_loss: 3.8692 - val_accuracy: 0.5309\n",
      "Epoch 59/100\n",
      "196/196 [==============================] - 3s 13ms/step - loss: 0.0918 - accuracy: 0.9700 - val_loss: 4.0451 - val_accuracy: 0.5304\n",
      "Epoch 60/100\n",
      "196/196 [==============================] - 3s 14ms/step - loss: 0.1063 - accuracy: 0.9653 - val_loss: 3.8067 - val_accuracy: 0.5207\n",
      "Epoch 61/100\n",
      "196/196 [==============================] - 3s 14ms/step - loss: 0.0919 - accuracy: 0.9704 - val_loss: 3.7844 - val_accuracy: 0.5259\n",
      "Epoch 62/100\n",
      "196/196 [==============================] - 3s 14ms/step - loss: 0.0939 - accuracy: 0.9687 - val_loss: 4.1017 - val_accuracy: 0.5326\n",
      "Epoch 63/100\n",
      "196/196 [==============================] - 3s 14ms/step - loss: 0.0921 - accuracy: 0.9701 - val_loss: 4.0617 - val_accuracy: 0.5318\n",
      "Epoch 64/100\n",
      "196/196 [==============================] - 3s 14ms/step - loss: 0.0930 - accuracy: 0.9699 - val_loss: 4.2280 - val_accuracy: 0.5279\n",
      "Epoch 65/100\n",
      "196/196 [==============================] - 3s 14ms/step - loss: 0.0990 - accuracy: 0.9688 - val_loss: 3.9458 - val_accuracy: 0.5284\n",
      "Epoch 66/100\n",
      "196/196 [==============================] - 3s 14ms/step - loss: 0.0939 - accuracy: 0.9696 - val_loss: 4.0585 - val_accuracy: 0.5294\n",
      "Epoch 67/100\n",
      "196/196 [==============================] - 3s 14ms/step - loss: 0.0888 - accuracy: 0.9713 - val_loss: 4.0744 - val_accuracy: 0.5264\n",
      "Epoch 68/100\n",
      "196/196 [==============================] - 3s 14ms/step - loss: 0.0895 - accuracy: 0.9706 - val_loss: 4.1659 - val_accuracy: 0.5344\n",
      "Epoch 69/100\n",
      "196/196 [==============================] - 3s 14ms/step - loss: 0.0925 - accuracy: 0.9703 - val_loss: 3.9859 - val_accuracy: 0.5344\n",
      "Epoch 70/100\n",
      "196/196 [==============================] - 3s 14ms/step - loss: 0.0891 - accuracy: 0.9720 - val_loss: 4.0117 - val_accuracy: 0.5296\n",
      "Epoch 71/100\n",
      "196/196 [==============================] - 3s 14ms/step - loss: 0.0803 - accuracy: 0.9747 - val_loss: 4.3445 - val_accuracy: 0.5290\n",
      "Epoch 72/100\n",
      "196/196 [==============================] - 3s 14ms/step - loss: 0.0953 - accuracy: 0.9699 - val_loss: 4.0560 - val_accuracy: 0.5390\n",
      "Epoch 73/100\n",
      "196/196 [==============================] - 3s 14ms/step - loss: 0.0786 - accuracy: 0.9756 - val_loss: 4.2556 - val_accuracy: 0.5370\n",
      "Epoch 74/100\n",
      "196/196 [==============================] - 3s 14ms/step - loss: 0.0709 - accuracy: 0.9770 - val_loss: 4.2591 - val_accuracy: 0.5286\n",
      "Epoch 75/100\n",
      "196/196 [==============================] - 3s 14ms/step - loss: 0.1054 - accuracy: 0.9667 - val_loss: 3.9253 - val_accuracy: 0.5309\n",
      "Epoch 76/100\n",
      "196/196 [==============================] - 3s 14ms/step - loss: 0.0687 - accuracy: 0.9773 - val_loss: 4.2169 - val_accuracy: 0.5230\n",
      "Epoch 77/100\n",
      "196/196 [==============================] - 3s 14ms/step - loss: 0.0782 - accuracy: 0.9742 - val_loss: 4.2118 - val_accuracy: 0.5272\n",
      "Epoch 78/100\n",
      "196/196 [==============================] - 3s 15ms/step - loss: 0.0770 - accuracy: 0.9754 - val_loss: 4.2156 - val_accuracy: 0.5236\n",
      "Epoch 79/100\n",
      "196/196 [==============================] - 3s 14ms/step - loss: 0.0736 - accuracy: 0.9764 - val_loss: 4.2798 - val_accuracy: 0.5246\n",
      "Epoch 80/100\n",
      "196/196 [==============================] - 3s 14ms/step - loss: 0.0764 - accuracy: 0.9754 - val_loss: 4.4618 - val_accuracy: 0.5297\n",
      "Epoch 81/100\n",
      "196/196 [==============================] - 3s 14ms/step - loss: 0.0958 - accuracy: 0.9701 - val_loss: 4.1808 - val_accuracy: 0.5322\n",
      "Epoch 82/100\n",
      "196/196 [==============================] - 3s 14ms/step - loss: 0.0755 - accuracy: 0.9762 - val_loss: 4.3187 - val_accuracy: 0.5301\n",
      "Epoch 83/100\n",
      "196/196 [==============================] - 3s 14ms/step - loss: 0.0668 - accuracy: 0.9789 - val_loss: 4.2980 - val_accuracy: 0.5289\n",
      "Epoch 84/100\n",
      "196/196 [==============================] - 3s 14ms/step - loss: 0.0834 - accuracy: 0.9746 - val_loss: 4.0943 - val_accuracy: 0.5294\n",
      "Epoch 85/100\n",
      "196/196 [==============================] - 3s 14ms/step - loss: 0.0822 - accuracy: 0.9737 - val_loss: 4.3572 - val_accuracy: 0.5298\n",
      "Epoch 86/100\n",
      "196/196 [==============================] - 3s 14ms/step - loss: 0.0676 - accuracy: 0.9781 - val_loss: 4.4558 - val_accuracy: 0.5336\n",
      "Epoch 87/100\n",
      "196/196 [==============================] - 3s 14ms/step - loss: 0.0806 - accuracy: 0.9747 - val_loss: 4.3252 - val_accuracy: 0.5313\n",
      "Epoch 88/100\n",
      "196/196 [==============================] - 3s 14ms/step - loss: 0.0884 - accuracy: 0.9722 - val_loss: 4.0925 - val_accuracy: 0.5273\n",
      "Epoch 89/100\n",
      "196/196 [==============================] - 3s 14ms/step - loss: 0.0666 - accuracy: 0.9789 - val_loss: 4.2944 - val_accuracy: 0.5351\n",
      "Epoch 90/100\n",
      "196/196 [==============================] - 3s 14ms/step - loss: 0.0621 - accuracy: 0.9809 - val_loss: 4.4899 - val_accuracy: 0.5336\n",
      "Epoch 91/100\n",
      "196/196 [==============================] - 3s 14ms/step - loss: 0.0763 - accuracy: 0.9759 - val_loss: 4.2367 - val_accuracy: 0.5285\n",
      "Epoch 92/100\n",
      "196/196 [==============================] - 3s 14ms/step - loss: 0.0646 - accuracy: 0.9801 - val_loss: 4.3294 - val_accuracy: 0.5342\n",
      "Epoch 93/100\n",
      "196/196 [==============================] - 3s 14ms/step - loss: 0.0667 - accuracy: 0.9789 - val_loss: 4.1635 - val_accuracy: 0.5343\n",
      "Epoch 94/100\n",
      "196/196 [==============================] - 3s 14ms/step - loss: 0.0711 - accuracy: 0.9772 - val_loss: 4.3052 - val_accuracy: 0.5253\n",
      "Epoch 95/100\n",
      "196/196 [==============================] - 3s 14ms/step - loss: 0.0642 - accuracy: 0.9795 - val_loss: 4.5177 - val_accuracy: 0.5254\n",
      "Epoch 96/100\n",
      "196/196 [==============================] - 3s 14ms/step - loss: 0.0767 - accuracy: 0.9753 - val_loss: 4.4548 - val_accuracy: 0.5326\n",
      "Epoch 97/100\n",
      "196/196 [==============================] - 3s 14ms/step - loss: 0.0638 - accuracy: 0.9806 - val_loss: 4.6520 - val_accuracy: 0.5306\n",
      "Epoch 98/100\n",
      "196/196 [==============================] - 3s 14ms/step - loss: 0.0742 - accuracy: 0.9765 - val_loss: 4.4117 - val_accuracy: 0.5298\n",
      "Epoch 99/100\n",
      "196/196 [==============================] - 3s 14ms/step - loss: 0.0585 - accuracy: 0.9820 - val_loss: 4.4137 - val_accuracy: 0.5317\n",
      "Epoch 100/100\n",
      "196/196 [==============================] - 3s 14ms/step - loss: 0.0606 - accuracy: 0.9810 - val_loss: 4.6423 - val_accuracy: 0.5251\n"
     ]
    },
    {
     "data": {
      "text/plain": [
       "<tensorflow.python.keras.callbacks.History at 0x1e7d0b7a708>"
      ]
     },
     "execution_count": 8,
     "metadata": {},
     "output_type": "execute_result"
    }
   ],
   "source": [
    "model.fit(x_train, y_train, \n",
    "          epochs=EPOCHS, \n",
    "          batch_size=BATCH_SIZE, \n",
    "          validation_data=(x_test, y_test), \n",
    "          shuffle=True)"
   ]
  },
  {
   "cell_type": "code",
   "execution_count": 9,
   "metadata": {},
   "outputs": [
    {
     "data": {
      "image/png": "[encoded data removed]",
      "text/plain": [
       "<Figure size 432x288 with 1 Axes>"
      ]
     },
     "metadata": {
      "needs_background": "light"
     },
     "output_type": "display_data"
    },
    {
     "data": {
      "image/png": "[encoded data removed]",
      "text/plain": [
       "<Figure size 432x288 with 1 Axes>"
      ]
     },
     "metadata": {
      "needs_background": "light"
     },
     "output_type": "display_data"
    }
   ],
   "source": [
    "import matplotlib.pyplot as plt\n",
    "\n",
    "\n",
    "train_loss = model.history.history[\"loss\"]\n",
    "valid_loss = model.history.history[\"val_loss\"]\n",
    "\n",
    "train_acc = model.history.history[\"accuracy\"]\n",
    "valid_acc = model.history.history[\"val_accuracy\"]\n",
    "\n",
    "plt.plot(range(len(train_loss)), train_loss, label=\"train loss\")\n",
    "plt.plot(range(len(valid_loss)), valid_loss, label=\"valid loss\")\n",
    "plt.legend()\n",
    "plt.title(\"Loss\")\n",
    "plt.show()\n",
    "\n",
    "plt.plot(range(len(train_acc)), train_acc, label=\"train accuracy\")\n",
    "plt.plot(range(len(valid_acc)), valid_acc, label=\"valid accuracy\")\n",
    "plt.legend()\n",
    "plt.title(\"Accuracy\")\n",
    "plt.show()"
   ]
  },
  {
   "cell_type": "code",
   "execution_count": null,
   "metadata": {},
   "outputs": [],
   "source": []
  }
 ],
 "metadata": {
  "kernelspec": {
   "display_name": "Python 3",
   "language": "python",
   "name": "python3"
  },
  "language_info": {
   "codemirror_mode": {
    "name": "ipython",
    "version": 3
   },
   "file_extension": ".py",
   "mimetype": "text/x-python",
   "name": "python",
   "nbconvert_exporter": "python",
   "pygments_lexer": "ipython3",
   "version": "3.7.6"
  }
 },
 "nbformat": 4,
 "nbformat_minor": 2
}
